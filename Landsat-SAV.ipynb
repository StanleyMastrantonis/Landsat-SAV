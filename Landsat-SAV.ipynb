{
 "cells": [
  {
   "cell_type": "raw",
   "id": "0d54ee91-2eb7-47e8-9b04-b9f0d80a6f26",
   "metadata": {},
   "source": [
    "---\n",
    "title: Landsat SAV\n",
    "author: Stanley Mastrantonis \n",
    "bibliography: references.bib\n",
    "csl: nature.csl\n",
    "format:\n",
    "  html:\n",
    "    toc: true\n",
    "    code-fold: true\n",
    "    self-contained: true\n",
    "    theme: paper\n",
    "---"
   ]
  },
  {
   "cell_type": "markdown",
   "id": "c0548df3-d1ed-42a7-b785-7829a65bece0",
   "metadata": {},
   "source": [
    "### Library and modules"
   ]
  },
  {
   "cell_type": "code",
   "execution_count": 1,
   "id": "c9e4799a-e2bb-48f2-8915-447e213bba97",
   "metadata": {},
   "outputs": [],
   "source": [
    "import numpy as np, pandas as pd, geopandas as gpd, sklearn.metrics as metrics\n",
    "import geemap, ee , rasterio, sankee, warnings, pickle\n",
    "from rasterio.plot import show\n",
    "from geopandas import GeoDataFrame\n",
    "from osgeo import gdal, osr, gdalconst\n",
    "import os, glob, subprocess\n",
    "import rasterio\n",
    "import matplotlib as mpl\n",
    "import matplotlib.pyplot as plt, plotly.express as px\n",
    "from geemap import ml\n",
    "from sklearn import ensemble\n",
    "from sklearn.cluster import DBSCAN, AgglomerativeClustering\n",
    "from scipy import stats\n",
    "from scipy.cluster.hierarchy import dendrogram, linkage\n",
    "from shapely.geometry import Polygon, Point\n",
    "from sklearn.metrics import confusion_matrix, cohen_kappa_score\n",
    "warnings.filterwarnings('ignore')"
   ]
  },
  {
   "cell_type": "markdown",
   "id": "b5d569e5-f7e4-429d-9d81-3f180e8352e2",
   "metadata": {},
   "source": [
    "### Earth Engine log in"
   ]
  },
  {
   "cell_type": "code",
   "execution_count": 3,
   "id": "28acb930-72a4-46c6-ae71-689f5e7ac73d",
   "metadata": {},
   "outputs": [
    {
     "data": {
      "text/html": [
       "<p>To authorize access needed by Earth Engine, open the following\n",
       "        URL in a web browser and follow the instructions:</p>\n",
       "        <p><a href=https://code.earthengine.google.com/client-auth?scopes=https%3A//www.googleapis.com/auth/earthengine%20https%3A//www.googleapis.com/auth/devstorage.full_control&request_id=6BxVGGtzh04mxNOm7Ag-zrUtQbC4J6gufqN9lWR-xpY&tc=3qCAQT-OnNCByl_6J4-WSkbi4UxvlwKeEZjjGtmxj0U&cc=TFEw8waU9_3PhMZWOzbKNZ656k1GqbteOZQFSAM7Qmg>https://code.earthengine.google.com/client-auth?scopes=https%3A//www.googleapis.com/auth/earthengine%20https%3A//www.googleapis.com/auth/devstorage.full_control&request_id=6BxVGGtzh04mxNOm7Ag-zrUtQbC4J6gufqN9lWR-xpY&tc=3qCAQT-OnNCByl_6J4-WSkbi4UxvlwKeEZjjGtmxj0U&cc=TFEw8waU9_3PhMZWOzbKNZ656k1GqbteOZQFSAM7Qmg</a></p>\n",
       "        <p>The authorization workflow will generate a code, which you should paste in the box below.</p>\n",
       "        "
      ],
      "text/plain": [
       "<IPython.core.display.HTML object>"
      ]
     },
     "metadata": {},
     "output_type": "display_data"
    },
    {
     "name": "stdin",
     "output_type": "stream",
     "text": [
      "Enter verification code:  4/1AWgavdd541aJM5shL4CkFLN5Imue6HbVJCwBUUq9Dj3ospn9I6RxnNjOH8E\n"
     ]
    },
    {
     "name": "stdout",
     "output_type": "stream",
     "text": [
      "\n",
      "Successfully saved authorization token.\n"
     ]
    }
   ],
   "source": [
    "ee.Authenticate()"
   ]
  },
  {
   "cell_type": "code",
   "execution_count": 2,
   "id": "24be6b2f-c2c6-4888-adaa-c852c365926d",
   "metadata": {},
   "outputs": [],
   "source": [
    "ee.Initialize()"
   ]
  },
  {
   "cell_type": "code",
   "execution_count": 3,
   "id": "a5be41ef-1bc2-4333-8c13-6555d4b3275c",
   "metadata": {},
   "outputs": [],
   "source": [
    "######################## subset L8 collection   ########################################\n",
    "##################################################################################\n",
    "def getFactorImg(factorNames, image):\n",
    "    factorList = image.toDictionary().select(factorNames).values()\n",
    "    return ee.Image.constant(factorList)\n",
    "\n",
    "######################## pandas normalise   ########################################\n",
    "##################################################################################\n",
    "def NormalizeData(data):\n",
    "    return (data - np.min(data)) / (np.max(data) - np.min(data))\n",
    "\n",
    "######################## L8 cloud mask   ########################################\n",
    "##################################################################################\n",
    "def getQABits(image, start, end, mask):\n",
    "    pattern = 0\n",
    "    for i in range(start,end-1):\n",
    "        pattern += 2**i\n",
    "    return image.select([0], [mask]).bitwiseAnd(pattern).rightShift(start)\n",
    "\n",
    "\n",
    "def maskQuality(image):\n",
    "    QA = image.select('QA_PIXEL')\n",
    "    shadowMask = getQABits(QA,3,3,'cloud_shadow')\n",
    "    cloudMask = getQABits(QA,5,5,'cloud')\n",
    "    cirrusMask = getQABits(QA,9,9,'cirrus_detected')\n",
    "    scaleImg = getFactorImg(['REFLECTANCE_MULT_BAND_.|TEMPERATURE_MULT_BAND_ST_B10'], image)\n",
    "    offsetImg = getFactorImg(['REFLECTANCE_ADD_BAND_.|TEMPERATURE_ADD_BAND_ST_B10'], image)\n",
    "    scaled = image.select('SR_B.|ST_B10').multiply(scaleImg).add(offsetImg)\n",
    "    \n",
    "    return (image.addBands(scaled, None, True)\n",
    "            .updateMask(cirrusMask)\n",
    "            # .updateMask(cloudMask)\n",
    "            # .updateMask(shadowMask)\n",
    "            )\n",
    "\n",
    "\n",
    "\n",
    "def prepSrL8(image):\n",
    "    dilateMask = image.select('QA_PIXEL').bitwiseAnd(int('11111', 0)).eq(0)\n",
    "    cirrusMask = image.select('QA_PIXEL').bitwiseAnd(int('11111', 2)).eq(0)\n",
    "    cloudMask = image.select('QA_PIXEL').bitwiseAnd(int('11111', 3)).eq(0)\n",
    "    shadowMask =  image.select('QA_PIXEL').bitwiseAnd(int('11111', 4)).eq(0)\n",
    "    snowMask = image.select('QA_PIXEL').bitwiseAnd(int('11111', 5)).eq(0)\n",
    "    saturationMask = image.select('QA_RADSAT').eq(0)\n",
    "    scaleImg = getFactorImg(['REFLECTANCE_MULT_BAND_.|TEMPERATURE_MULT_BAND_ST_B10'], image)\n",
    "    offsetImg = getFactorImg(['REFLECTANCE_ADD_BAND_.|TEMPERATURE_ADD_BAND_ST_B10'], image)\n",
    "    scaled = image.select('SR_B.|ST_B10').multiply(scaleImg).add(offsetImg)\n",
    "\n",
    "    return (image.addBands(scaled, None, True)\n",
    "                 .updateMask(cirrusMask)\n",
    "                 # .updateMask(dilateMask)\n",
    "                 # .updateMask(cloudMask)\n",
    "                 # .updateMask(shadowMask)\n",
    "                 # .updateMask(snowMask)\n",
    "                 #.updateMask(saturationMask)\n",
    "           )\n",
    "\n",
    "######################## L8 scale factors   ####################################\n",
    "##################################################################################\n",
    "def apply_scale_factors(image):\n",
    "    opticalBands = image.select('SR_B.').multiply(0.0000275).add(-0.2)\n",
    "    thermalBands = image.select('ST_B.*').multiply(0.00341802).add(149.0)\n",
    "    return image.addBands(opticalBands, None, True).addBands(thermalBands, None, True)\n",
    "\n",
    "######################## convert L8 to SST   ####################################\n",
    "##################################################################################\n",
    "def sst(img):\n",
    "    thermalBands = img.select('ST_TRAD')\n",
    "    ln = k2_im.divide((k1_im.divide(thermalBands).add(1).log())).multiply(0.001).clip(site).rename(\"SST\")\n",
    "    #.convolve(kern)\n",
    "    return img.addBands(ln)\n",
    "\n",
    "######################## scale image   ####################################\n",
    "##################################################################################\n",
    "def scale(image):\n",
    "    return ee.Image(image).multiply(0.001)\n",
    "\n",
    "def addNDAVI(image):\n",
    "    ndvi = image.normalizedDifference(['SR_B1', 'SR_B5']).rename('NDAVI')\n",
    "    return image.addBands(ndvi)\n",
    "\n",
    "def addNDWI(image):\n",
    "    ndvi = image.normalizedDifference(['SR_B5', 'SR_B6']).rename('NDWI')\n",
    "    return image.addBands(ndvi)"
   ]
  },
  {
   "cell_type": "code",
   "execution_count": 13,
   "id": "96fadc27-e081-4191-9c8c-863e28f8d9e5",
   "metadata": {},
   "outputs": [
    {
     "ename": "AttributeError",
     "evalue": "'FeatureCollection' object has no attribute 'clip'",
     "output_type": "error",
     "traceback": [
      "\u001b[1;31m---------------------------------------------------------------------------\u001b[0m",
      "\u001b[1;31mAttributeError\u001b[0m                            Traceback (most recent call last)",
      "Input \u001b[1;32mIn [13]\u001b[0m, in \u001b[0;36m<cell line: 15>\u001b[1;34m()\u001b[0m\n\u001b[0;32m     13\u001b[0m lidar_url \u001b[38;5;241m=\u001b[39m \u001b[38;5;124m'\u001b[39m\u001b[38;5;124mgs://cog-bucket/lidar_cog.tif\u001b[39m\u001b[38;5;124m'\u001b[39m\n\u001b[0;32m     14\u001b[0m lidar \u001b[38;5;241m=\u001b[39m geemap\u001b[38;5;241m.\u001b[39mload_GeoTIFF(lidar_url)\u001b[38;5;241m.\u001b[39mrename(\u001b[38;5;124m'\u001b[39m\u001b[38;5;124mlidar\u001b[39m\u001b[38;5;124m'\u001b[39m)\n\u001b[1;32m---> 15\u001b[0m hab \u001b[38;5;241m=\u001b[39m \u001b[43mhab\u001b[49m\u001b[38;5;241;43m.\u001b[39;49m\u001b[43mclip\u001b[49m(mask)\n",
      "\u001b[1;31mAttributeError\u001b[0m: 'FeatureCollection' object has no attribute 'clip'"
     ]
    }
   ],
   "source": [
    "hab = geemap.shp_to_ee(os.path.join(os.getcwd(),\n",
    "          'Data\\\\BOSS\\\\Cleaned\\\\BOSS_hab.shp'))\n",
    "\n",
    "sites = geemap.shp_to_ee(os.path.join(os.getcwd(),\n",
    "          'Data\\\\ICoAST sites\\\\WGS84\\\\ICOAST_sites.shp'))\n",
    "\n",
    "kal = geemap.shp_to_ee(os.path.join(os.getcwd(),\n",
    "          'Data\\\\ICoAST sites\\\\Sites\\\\Kalbarri.shp'))\n",
    "\n",
    "mask = geemap.shp_to_ee(os.path.join(os.getcwd(),\n",
    "          'Data\\\\Lidar mask\\\\Lidar_mask.shp'))\n",
    "\n",
    "lidar_url = 'gs://cog-bucket/lidar_cog.tif'\n",
    "lidar = geemap.load_GeoTIFF(lidar_url).rename('lidar')\n",
    "hab = hab.clip(mask)"
   ]
  },
  {
   "cell_type": "markdown",
   "id": "dceeed49-a8a0-474e-a4a2-b5d0b34ffe89",
   "metadata": {},
   "source": [
    "### L8 collection"
   ]
  },
  {
   "cell_type": "code",
   "execution_count": 5,
   "id": "e69f09a8-8e4d-4e95-8bc8-398977dbfb31",
   "metadata": {},
   "outputs": [
    {
     "data": {
      "application/vnd.jupyter.widget-view+json": {
       "model_id": "84d97b0d28014d139382f0b1f253c1b6",
       "version_major": 2,
       "version_minor": 0
      },
      "text/plain": [
       "Map(center=[-26.38096118269607, 113.62250401413422], controls=(WidgetControl(options=['position', 'transparent…"
      ]
     },
     "metadata": {},
     "output_type": "display_data"
    }
   ],
   "source": [
    "Map = geemap.Map(toolbar_ctrl=True, layer_ctrl=True)\n",
    "Map.centerObject(sites.geometry(), 5)\n",
    "Map.addLayer(mask,  {}, 'Sites')\n",
    "Map"
   ]
  },
  {
   "cell_type": "code",
   "execution_count": 6,
   "id": "e9042eb0-e29d-4dd9-8d3e-0607e4c939bf",
   "metadata": {},
   "outputs": [],
   "source": [
    "start_date = '2021-02-01'\n",
    "end_date = '2021-12-30'\n",
    "\n",
    "L8 = (\n",
    "    ee.ImageCollection('LANDSAT/LC08/C02/T1_L2')\n",
    "    .filterBounds(mask)\n",
    "    .filterMetadata('CLOUD_COVER', 'less_than', 5)\n",
    "    .filterDate(start_date, end_date)\n",
    "    #.filter(\"IMAGE_QUALITY > 7\")\n",
    "    .map(addNDAVI)\n",
    "    .map(addNDWI)\n",
    "    .map(prepSrL8)\n",
    "    .median()\n",
    "    .clip(mask)\n",
    "    #.addBands(lidar.rename('lidar'))\n",
    ")"
   ]
  },
  {
   "cell_type": "code",
   "execution_count": 14,
   "id": "018a5f89-15fb-4244-be63-4f02ffcb5ec9",
   "metadata": {},
   "outputs": [
    {
     "data": {
      "application/vnd.jupyter.widget-view+json": {
       "model_id": "4254633226ca413b854093cfaff35b8b",
       "version_major": 2,
       "version_minor": 0
      },
      "text/plain": [
       "Map(center=[-26.38096118269607, 113.62250401413422], controls=(WidgetControl(options=['position', 'transparent…"
      ]
     },
     "metadata": {},
     "output_type": "display_data"
    }
   ],
   "source": [
    "Map = geemap.Map(toolbar_ctrl=True, layer_ctrl=True)\n",
    "Map.centerObject(sites.geometry(), 5)\n",
    "#Map.add_basemap('HYBRID')\n",
    "Map.addLayer(L8, {'bands': ['SR_B4', 'SR_B3', 'SR_B2'],'max': 0.05, 'min' : 0}, 'TOA composite')\n",
    "Map.addLayer(sites,  {}, 'Sites')\n",
    "Map.addLayer(hab,  {}, 'boss')\n",
    "Map"
   ]
  },
  {
   "cell_type": "code",
   "execution_count": 152,
   "id": "a2a151b1-6d36-4d30-a241-dc2d719f95c8",
   "metadata": {},
   "outputs": [],
   "source": [
    "start_date = '2013-01-01'\n",
    "end_date = '2013-12-30'\n",
    "\n",
    "L8_13 = (\n",
    "    ee.ImageCollection('LANDSAT/LC08/C02/T1_L2')\n",
    "    .filterBounds(sites)\n",
    "    .filterMetadata('CLOUD_COVER', 'less_than', 5)\n",
    "    .filterDate(start_date, end_date)\n",
    "    #.filter(\"IMAGE_QUALITY > 7\")\n",
    "    .map(prepSrL8)\n",
    "    .map(addNDAVI)\n",
    "    .map(addNDWI)\n",
    "    .median()\n",
    "    .clip(sites)\n",
    ")\n"
   ]
  },
  {
   "cell_type": "code",
   "execution_count": 148,
   "id": "b6f652ba-3851-4ddd-8dd4-94ddfe9267ce",
   "metadata": {},
   "outputs": [
    {
     "data": {
      "application/vnd.jupyter.widget-view+json": {
       "model_id": "2148aa90f2304bbc8e84115dd2dce17d",
       "version_major": 2,
       "version_minor": 0
      },
      "text/plain": [
       "Map(center=[-26.38096118269607, 113.62250401413422], controls=(WidgetControl(options=['position', 'transparent…"
      ]
     },
     "metadata": {},
     "output_type": "display_data"
    }
   ],
   "source": [
    "Map = geemap.Map(toolbar_ctrl=True, layer_ctrl=True)\n",
    "Map.centerObject(sites.geometry(), 5)\n",
    "Map.add_basemap('HYBRID')\n",
    "Map.addLayer(L8_13, {'bands': ['SR_B4', 'SR_B3', 'SR_B2'],'max': 0.1, 'min' : 0}, 'TOA composite')\n",
    "Map.addLayer(sites,  {}, 'Sites')\n",
    "Map"
   ]
  },
  {
   "cell_type": "code",
   "execution_count": 153,
   "id": "21f44874-797b-4d3b-b6c2-f4a8f1c3bae3",
   "metadata": {},
   "outputs": [],
   "source": [
    "start_date = '2008-02-01'\n",
    "end_date = '2008-06-30'\n",
    "\n",
    "L5 = (\n",
    "    ee.ImageCollection('LANDSAT/LT05/C02/T1_L2')\n",
    "    .filterBounds(sites)\n",
    "    .filterMetadata('CLOUD_COVER', 'less_than', 5)\n",
    "    .filter(\"IMAGE_QUALITY == 9\")\n",
    "    .filterDate(start_date, end_date)\n",
    "    .map(prepSrL8)\n",
    "    .median()\n",
    "    .clip(sites)\n",
    ")"
   ]
  },
  {
   "cell_type": "code",
   "execution_count": 150,
   "id": "6dd73b66-1f7a-4159-9487-6846ac010fd2",
   "metadata": {},
   "outputs": [
    {
     "data": {
      "application/vnd.jupyter.widget-view+json": {
       "model_id": "12eb5e6ee3b24d2cac4dcfd49b4d8059",
       "version_major": 2,
       "version_minor": 0
      },
      "text/plain": [
       "Map(center=[-26.38096118269607, 113.62250401413422], controls=(WidgetControl(options=['position', 'transparent…"
      ]
     },
     "metadata": {},
     "output_type": "display_data"
    }
   ],
   "source": [
    "Map = geemap.Map(toolbar_ctrl=True, layer_ctrl=True)\n",
    "Map.centerObject(sites.geometry(), 5)\n",
    "Map.add_basemap('HYBRID')\n",
    "Map.addLayer(L5, {'bands': ['SR_B4', 'SR_B3', 'SR_B2'],'max': 0.1, 'min' : 0}, 'TOA composite')\n",
    "Map.addLayer(sites,  {}, 'Sites')\n",
    "Map"
   ]
  },
  {
   "cell_type": "code",
   "execution_count": 8,
   "id": "1abf19db-f2bd-4a6f-9b01-55f168a140fa",
   "metadata": {},
   "outputs": [],
   "source": [
    "proj = ee.Projection('EPSG:4326')\n",
    "ndavi_dat = geemap.extract_values_to_points(hab,\n",
    "                                            L8.select('NDAVI'), \n",
    "                                            crs = proj, \n",
    "                                            scale = 30)\n",
    "\n",
    "ndwi_dat = geemap.extract_values_to_points(hab,\n",
    "                                            L8.select('NDWI'), \n",
    "                                            crs = proj, \n",
    "                                            scale = 30)\n",
    "\n",
    "b1_dat = geemap.extract_values_to_points(hab,\n",
    "                                         L8.select('SR_B1'), \n",
    "                                         crs = proj, \n",
    "                                         scale = 30)\n",
    "\n",
    "gr_dat = geemap.extract_values_to_points(hab,\n",
    "                                         L8.select('SR_B2'), \n",
    "                                         crs = proj, \n",
    "                                         scale = 30)\n",
    "\n",
    "# lid_dat = geemap.extract_values_to_points(hab,\n",
    "#                                          L8.select('lidar'), \n",
    "#                                          crs = proj, \n",
    "#                                          scale = 30)\n",
    "\n",
    "ndavi_dat  = geemap.ee_to_pandas(ndavi_dat)\n",
    "b1_dat  = geemap.ee_to_pandas(b1_dat)\n",
    "ndwi_dat = geemap.ee_to_pandas(ndwi_dat)\n",
    "gr_dat = geemap.ee_to_pandas(gr_dat)\n",
    "#lid_dat = geemap.ee_to_pandas(lid_dat)"
   ]
  },
  {
   "cell_type": "code",
   "execution_count": 11,
   "id": "53d5fb3d-b750-49b2-b4cc-47db14722088",
   "metadata": {},
   "outputs": [
    {
     "name": "stdout",
     "output_type": "stream",
     "text": [
      "<class 'pandas.core.frame.DataFrame'>\n",
      "RangeIndex: 408 entries, 0 to 407\n",
      "Data columns (total 23 columns):\n",
      " #   Column      Non-Null Count  Dtype  \n",
      "---  ------      --------------  -----  \n",
      " 0   date        408 non-null    object \n",
      " 1   broad_Ston  408 non-null    int64  \n",
      " 2   image       408 non-null    object \n",
      " 3   Total_adj   408 non-null    int64  \n",
      " 4   broad_Unkn  408 non-null    int64  \n",
      " 5   visibility  408 non-null    object \n",
      " 6   broad_Spon  408 non-null    int64  \n",
      " 7   latitude    408 non-null    float64\n",
      " 8   fov_Limite  408 non-null    float64\n",
      " 9   Cluster     408 non-null    object \n",
      " 10  broad_Seag  408 non-null    int64  \n",
      " 11  mean_relie  408 non-null    float64\n",
      " 12  sample      408 non-null    object \n",
      " 13  sd_relief   408 non-null    float64\n",
      " 14  site        408 non-null    object \n",
      " 15  time_botto  408 non-null    object \n",
      " 16  broad_Macr  408 non-null    int64  \n",
      " 17  location    408 non-null    object \n",
      " 18  broad_Cons  408 non-null    int64  \n",
      " 19  fov_Open    408 non-null    float64\n",
      " 20  Total_Sum   408 non-null    int64  \n",
      " 21  broad_Unco  408 non-null    int64  \n",
      " 22  longitude   408 non-null    float64\n",
      "dtypes: float64(6), int64(9), object(8)\n",
      "memory usage: 73.4+ KB\n"
     ]
    }
   ],
   "source": [
    "#ndwi_dat.info()\n",
    "b1_dat.info()"
   ]
  },
  {
   "cell_type": "code",
   "execution_count": 213,
   "id": "52b24fda-29de-4702-bff1-a7e218f28c73",
   "metadata": {},
   "outputs": [
    {
     "ename": "KeyError",
     "evalue": "'SR_B1'",
     "output_type": "error",
     "traceback": [
      "\u001b[1;31m---------------------------------------------------------------------------\u001b[0m",
      "\u001b[1;31mKeyError\u001b[0m                                  Traceback (most recent call last)",
      "File \u001b[1;32m~\\anaconda3\\envs\\pygis\\lib\\site-packages\\pandas\\core\\indexes\\base.py:3621\u001b[0m, in \u001b[0;36mIndex.get_loc\u001b[1;34m(self, key, method, tolerance)\u001b[0m\n\u001b[0;32m   3620\u001b[0m \u001b[38;5;28;01mtry\u001b[39;00m:\n\u001b[1;32m-> 3621\u001b[0m     \u001b[38;5;28;01mreturn\u001b[39;00m \u001b[38;5;28;43mself\u001b[39;49m\u001b[38;5;241;43m.\u001b[39;49m\u001b[43m_engine\u001b[49m\u001b[38;5;241;43m.\u001b[39;49m\u001b[43mget_loc\u001b[49m\u001b[43m(\u001b[49m\u001b[43mcasted_key\u001b[49m\u001b[43m)\u001b[49m\n\u001b[0;32m   3622\u001b[0m \u001b[38;5;28;01mexcept\u001b[39;00m \u001b[38;5;167;01mKeyError\u001b[39;00m \u001b[38;5;28;01mas\u001b[39;00m err:\n",
      "File \u001b[1;32m~\\anaconda3\\envs\\pygis\\lib\\site-packages\\pandas\\_libs\\index.pyx:136\u001b[0m, in \u001b[0;36mpandas._libs.index.IndexEngine.get_loc\u001b[1;34m()\u001b[0m\n",
      "File \u001b[1;32m~\\anaconda3\\envs\\pygis\\lib\\site-packages\\pandas\\_libs\\index.pyx:163\u001b[0m, in \u001b[0;36mpandas._libs.index.IndexEngine.get_loc\u001b[1;34m()\u001b[0m\n",
      "File \u001b[1;32mpandas\\_libs\\hashtable_class_helper.pxi:5198\u001b[0m, in \u001b[0;36mpandas._libs.hashtable.PyObjectHashTable.get_item\u001b[1;34m()\u001b[0m\n",
      "File \u001b[1;32mpandas\\_libs\\hashtable_class_helper.pxi:5206\u001b[0m, in \u001b[0;36mpandas._libs.hashtable.PyObjectHashTable.get_item\u001b[1;34m()\u001b[0m\n",
      "\u001b[1;31mKeyError\u001b[0m: 'SR_B1'",
      "\nThe above exception was the direct cause of the following exception:\n",
      "\u001b[1;31mKeyError\u001b[0m                                  Traceback (most recent call last)",
      "Input \u001b[1;32mIn [213]\u001b[0m, in \u001b[0;36m<cell line: 8>\u001b[1;34m()\u001b[0m\n\u001b[0;32m      5\u001b[0m lid_dat \u001b[38;5;241m=\u001b[39m lid_dat\u001b[38;5;241m.\u001b[39mrename(columns\u001b[38;5;241m=\u001b[39m{\u001b[38;5;124m'\u001b[39m\u001b[38;5;124mfirst\u001b[39m\u001b[38;5;124m'\u001b[39m: \u001b[38;5;124m'\u001b[39m\u001b[38;5;124mlidar\u001b[39m\u001b[38;5;124m'\u001b[39m})\n\u001b[0;32m      7\u001b[0m train_df \u001b[38;5;241m=\u001b[39m ndavi_dat\n\u001b[1;32m----> 8\u001b[0m train_df[\u001b[38;5;124m'\u001b[39m\u001b[38;5;124mSR_B1\u001b[39m\u001b[38;5;124m'\u001b[39m] \u001b[38;5;241m=\u001b[39m \u001b[43mb1_dat\u001b[49m\u001b[43m[\u001b[49m\u001b[38;5;124;43m'\u001b[39;49m\u001b[38;5;124;43mSR_B1\u001b[39;49m\u001b[38;5;124;43m'\u001b[39;49m\u001b[43m]\u001b[49m\n\u001b[0;32m      9\u001b[0m train_df[\u001b[38;5;124m'\u001b[39m\u001b[38;5;124mNDWI\u001b[39m\u001b[38;5;124m'\u001b[39m] \u001b[38;5;241m=\u001b[39m ndwi_dat[\u001b[38;5;124m'\u001b[39m\u001b[38;5;124mNDWI\u001b[39m\u001b[38;5;124m'\u001b[39m]\n\u001b[0;32m     10\u001b[0m train_df[\u001b[38;5;124m'\u001b[39m\u001b[38;5;124mSR_B2\u001b[39m\u001b[38;5;124m'\u001b[39m] \u001b[38;5;241m=\u001b[39m gr_dat[\u001b[38;5;124m'\u001b[39m\u001b[38;5;124mSR_B2\u001b[39m\u001b[38;5;124m'\u001b[39m]\n",
      "File \u001b[1;32m~\\anaconda3\\envs\\pygis\\lib\\site-packages\\pandas\\core\\frame.py:3505\u001b[0m, in \u001b[0;36mDataFrame.__getitem__\u001b[1;34m(self, key)\u001b[0m\n\u001b[0;32m   3503\u001b[0m \u001b[38;5;28;01mif\u001b[39;00m \u001b[38;5;28mself\u001b[39m\u001b[38;5;241m.\u001b[39mcolumns\u001b[38;5;241m.\u001b[39mnlevels \u001b[38;5;241m>\u001b[39m \u001b[38;5;241m1\u001b[39m:\n\u001b[0;32m   3504\u001b[0m     \u001b[38;5;28;01mreturn\u001b[39;00m \u001b[38;5;28mself\u001b[39m\u001b[38;5;241m.\u001b[39m_getitem_multilevel(key)\n\u001b[1;32m-> 3505\u001b[0m indexer \u001b[38;5;241m=\u001b[39m \u001b[38;5;28;43mself\u001b[39;49m\u001b[38;5;241;43m.\u001b[39;49m\u001b[43mcolumns\u001b[49m\u001b[38;5;241;43m.\u001b[39;49m\u001b[43mget_loc\u001b[49m\u001b[43m(\u001b[49m\u001b[43mkey\u001b[49m\u001b[43m)\u001b[49m\n\u001b[0;32m   3506\u001b[0m \u001b[38;5;28;01mif\u001b[39;00m is_integer(indexer):\n\u001b[0;32m   3507\u001b[0m     indexer \u001b[38;5;241m=\u001b[39m [indexer]\n",
      "File \u001b[1;32m~\\anaconda3\\envs\\pygis\\lib\\site-packages\\pandas\\core\\indexes\\base.py:3623\u001b[0m, in \u001b[0;36mIndex.get_loc\u001b[1;34m(self, key, method, tolerance)\u001b[0m\n\u001b[0;32m   3621\u001b[0m     \u001b[38;5;28;01mreturn\u001b[39;00m \u001b[38;5;28mself\u001b[39m\u001b[38;5;241m.\u001b[39m_engine\u001b[38;5;241m.\u001b[39mget_loc(casted_key)\n\u001b[0;32m   3622\u001b[0m \u001b[38;5;28;01mexcept\u001b[39;00m \u001b[38;5;167;01mKeyError\u001b[39;00m \u001b[38;5;28;01mas\u001b[39;00m err:\n\u001b[1;32m-> 3623\u001b[0m     \u001b[38;5;28;01mraise\u001b[39;00m \u001b[38;5;167;01mKeyError\u001b[39;00m(key) \u001b[38;5;28;01mfrom\u001b[39;00m \u001b[38;5;21;01merr\u001b[39;00m\n\u001b[0;32m   3624\u001b[0m \u001b[38;5;28;01mexcept\u001b[39;00m \u001b[38;5;167;01mTypeError\u001b[39;00m:\n\u001b[0;32m   3625\u001b[0m     \u001b[38;5;66;03m# If we have a listlike key, _check_indexing_error will raise\u001b[39;00m\n\u001b[0;32m   3626\u001b[0m     \u001b[38;5;66;03m#  InvalidIndexError. Otherwise we fall through and re-raise\u001b[39;00m\n\u001b[0;32m   3627\u001b[0m     \u001b[38;5;66;03m#  the TypeError.\u001b[39;00m\n\u001b[0;32m   3628\u001b[0m     \u001b[38;5;28mself\u001b[39m\u001b[38;5;241m.\u001b[39m_check_indexing_error(key)\n",
      "\u001b[1;31mKeyError\u001b[0m: 'SR_B1'"
     ]
    }
   ],
   "source": [
    "ndavi_dat = ndavi_dat.rename(columns={'first': 'NDAVI'})\n",
    "b1_dat = b1_dat.rename(columns={'first': 'SR_B1'})\n",
    "ndwi_dat = ndwi_dat.rename(columns={'first': 'NDWI'})\n",
    "gr_dat = gr_dat.rename(columns={'first': 'SR_B2'})\n",
    "lid_dat = lid_dat.rename(columns={'first': 'lidar'})\n",
    "\n",
    "train_df = ndavi_dat\n",
    "train_df['SR_B1'] = b1_dat['SR_B1']\n",
    "train_df['NDWI'] = ndwi_dat['NDWI']\n",
    "train_df['SR_B2'] = gr_dat['SR_B2']\n",
    "train_split = train_df.sample(frac=0.9,random_state=2)\n",
    "train_split = train_split.dropna(subset=['NDAVI', 'SR_B1', 'NDWI', 'Cluster'])\n",
    "test_split = train_df.drop(train_split.index)\n",
    "test_split = test_split.dropna(subset=['NDAVI', 'SR_B1', 'NDWI', 'Cluster'])\n",
    "\n",
    "feature_names = ['NDAVI', 'SR_B1', 'NDWI', 'SR_B2']\n",
    "label = \"Cluster\"\n",
    "X = train_split[feature_names]\n",
    "y = train_split[label]"
   ]
  },
  {
   "cell_type": "code",
   "execution_count": 198,
   "id": "30ef84e9-ed1d-433e-9458-a298c7afb0e0",
   "metadata": {},
   "outputs": [],
   "source": [
    "n_trees = 1000\n",
    "rf = (\n",
    "     ensemble.RandomForestClassifier(n_trees,\n",
    "                                    max_features = 'sqrt',\n",
    "                                    max_depth = 5,\n",
    "                                    ccp_alpha=0.001,\n",
    "                                    oob_score = True)\n",
    "                                    .fit(X, y)\n",
    ")\n",
    "\n",
    "pred = rf.predict(test_split[feature_names])"
   ]
  },
  {
   "cell_type": "code",
   "execution_count": 200,
   "id": "f7b940d8-dbe6-4424-a98b-7fae1dffa17b",
   "metadata": {},
   "outputs": [
    {
     "data": {
      "text/plain": [
       "0.39194915254237284"
      ]
     },
     "execution_count": 200,
     "metadata": {},
     "output_type": "execute_result"
    }
   ],
   "source": [
    "confusion_matrix(test_split[label], pred)\n",
    "cohen_kappa_score(test_split[label], pred)"
   ]
  },
  {
   "cell_type": "code",
   "execution_count": 201,
   "id": "f7b62fb5-402a-44b4-9411-ecb8d1435b55",
   "metadata": {},
   "outputs": [],
   "source": [
    "trees = ml.rf_to_strings(rf, \n",
    "                        feature_names,\n",
    "                        processes=3,\n",
    "                        output_mode = 'CLASSIFICATION')\n",
    "ee_classifier = ml.strings_to_classifier(trees)\n",
    "classified = L8.select(feature_names).classify(ee_classifier)"
   ]
  },
  {
   "cell_type": "code",
   "execution_count": 202,
   "id": "8096d513-2d60-478d-af7d-13b1798e6415",
   "metadata": {},
   "outputs": [],
   "source": [
    "ee_classifier = ml.strings_to_classifier(trees)\n",
    "classified = L8.select(feature_names).classify(ee_classifier)"
   ]
  },
  {
   "cell_type": "code",
   "execution_count": 203,
   "id": "b82ad2b8-a09c-498d-a36b-cd2895663bdd",
   "metadata": {},
   "outputs": [
    {
     "data": {
      "application/vnd.jupyter.widget-view+json": {
       "model_id": "4a62e8d08e264558a68914a1f66cf2db",
       "version_major": 2,
       "version_minor": 0
      },
      "text/plain": [
       "Map(center=[20, 0], controls=(WidgetControl(options=['position', 'transparent_bg'], widget=HBox(children=(Togg…"
      ]
     },
     "metadata": {},
     "output_type": "display_data"
    }
   ],
   "source": [
    "Map_pred = geemap.Map(toolbar_ctrl=True, layer_ctrl=True)\n",
    "Map_pred.add_basemap('HYBRID')\n",
    "vis_pred = {\n",
    "    'min': 0,\n",
    "    'max': 1,\n",
    "    'palette': ['#9EE953', '#D2B866', '#3A570B'],\n",
    "}\n",
    "\n",
    "Map_pred.addLayer(classified, vis_pred  ,'classification',\n",
    ")\n",
    "\n",
    "Map_pred\n"
   ]
  },
  {
   "cell_type": "code",
   "execution_count": 170,
   "id": "11c04f71-4b0b-4559-8bba-986420b77bda",
   "metadata": {},
   "outputs": [
    {
     "data": {
      "text/plain": [
       "{'state': 'READY',\n",
       " 'description': 'L8_Kal',\n",
       " 'creation_timestamp_ms': 1671077929332,\n",
       " 'update_timestamp_ms': 1671077929332,\n",
       " 'start_timestamp_ms': 0,\n",
       " 'task_type': 'EXPORT_IMAGE',\n",
       " 'id': 'JMFZZWS3W7FZES2HIE6622N5',\n",
       " 'name': 'projects/earthengine-legacy/operations/JMFZZWS3W7FZES2HIE6622N5'}"
      ]
     },
     "execution_count": 170,
     "metadata": {},
     "output_type": "execute_result"
    }
   ],
   "source": [
    "Kal_L8 = L8.select(['SR_B2', 'SR_B3', 'SR_B4']).clip(kal).unmask()\n",
    "task_Kal_L8 = ee.batch.Export.image.toCloudStorage(**{\n",
    "    'image': Kal_L8 ,\n",
    "    'description': 'L8_Kal',\n",
    "    'fileNamePrefix' :'L8_Kal',\n",
    "    'crs': 'EPSG:4326',\n",
    "    'scale': 30,\n",
    "    'region': kal.geometry(),\n",
    "    'fileFormat': 'GeoTIFF',\n",
    "    'bucket': 'cog-bucket',\n",
    "    'maxPixels': 1e13,\n",
    "    'skipEmptyTiles' : True,\n",
    "    'formatOptions': {'cloudOptimized': True}\n",
    "})\n",
    "task_Kal_L8.start()\n",
    "task_Kal_L8.status()"
   ]
  },
  {
   "cell_type": "code",
   "execution_count": 174,
   "id": "23282559-9a3e-4b0a-82b4-50980a808135",
   "metadata": {},
   "outputs": [
    {
     "data": {
      "text/plain": [
       "{'state': 'RUNNING',\n",
       " 'description': 'L8_Kal',\n",
       " 'creation_timestamp_ms': 1671077929332,\n",
       " 'update_timestamp_ms': 1671077973951,\n",
       " 'start_timestamp_ms': 1671077973873,\n",
       " 'task_type': 'EXPORT_IMAGE',\n",
       " 'attempt': 1,\n",
       " 'id': 'JMFZZWS3W7FZES2HIE6622N5',\n",
       " 'name': 'projects/earthengine-legacy/operations/JMFZZWS3W7FZES2HIE6622N5'}"
      ]
     },
     "execution_count": 174,
     "metadata": {},
     "output_type": "execute_result"
    }
   ],
   "source": [
    "task_Kal_L8.status()"
   ]
  },
  {
   "cell_type": "code",
   "execution_count": 176,
   "id": "165294a0-019f-4317-a725-ef4c0aae07e3",
   "metadata": {},
   "outputs": [
    {
     "data": {
      "text/plain": [
       "{'state': 'READY',\n",
       " 'description': 'L8_13_Kal',\n",
       " 'creation_timestamp_ms': 1671077990649,\n",
       " 'update_timestamp_ms': 1671077990649,\n",
       " 'start_timestamp_ms': 0,\n",
       " 'task_type': 'EXPORT_IMAGE',\n",
       " 'id': '4I7OU4WXIBEZXPGMHTYDGT2Y',\n",
       " 'name': 'projects/earthengine-legacy/operations/4I7OU4WXIBEZXPGMHTYDGT2Y'}"
      ]
     },
     "execution_count": 176,
     "metadata": {},
     "output_type": "execute_result"
    }
   ],
   "source": [
    "Kal_L8_13 = L8_13.select(['SR_B2', 'SR_B3', 'SR_B4']).clip(kal).unmask()\n",
    "task_Kal_L8_13 = ee.batch.Export.image.toCloudStorage(**{\n",
    "    'image': Kal_L8_13 ,\n",
    "    'description': 'L8_13_Kal',\n",
    "    'fileNamePrefix' :'L8_13_Kal',\n",
    "    'crs': 'EPSG:4326',\n",
    "    'scale': 30,\n",
    "    'region': kal.geometry(),\n",
    "    'fileFormat': 'GeoTIFF',\n",
    "    'bucket': 'cog-bucket',\n",
    "    'maxPixels': 1e13,\n",
    "    'skipEmptyTiles' : True,\n",
    "    'formatOptions': {'cloudOptimized': True}\n",
    "})\n",
    "task_Kal_L8_13.start()\n",
    "task_Kal_L8_13.status()"
   ]
  },
  {
   "cell_type": "code",
   "execution_count": 175,
   "id": "f3f02e85-ad35-4481-b495-ba8cb555ea43",
   "metadata": {},
   "outputs": [
    {
     "data": {
      "text/plain": [
       "{'state': 'FAILED',\n",
       " 'description': 'L8_13_Kal',\n",
       " 'creation_timestamp_ms': 1671077816104,\n",
       " 'update_timestamp_ms': 1671077832240,\n",
       " 'start_timestamp_ms': 1671077831646,\n",
       " 'task_type': 'EXPORT_IMAGE',\n",
       " 'attempt': 1,\n",
       " 'error_message': 'Exported bands must have compatible data types; found inconsistent types: Float64 and Float32.',\n",
       " 'id': 'B2S2XCAUTCH2D464YJDHRM5H',\n",
       " 'name': 'projects/earthengine-legacy/operations/B2S2XCAUTCH2D464YJDHRM5H'}"
      ]
     },
     "execution_count": 175,
     "metadata": {},
     "output_type": "execute_result"
    }
   ],
   "source": [
    "task_Kal_L8_13.status()"
   ]
  },
  {
   "cell_type": "code",
   "execution_count": 168,
   "id": "e346681c-00ac-4396-be86-b1b713dc6ed6",
   "metadata": {},
   "outputs": [
    {
     "data": {
      "text/plain": [
       "{'state': 'READY',\n",
       " 'description': 'L5_Kal',\n",
       " 'creation_timestamp_ms': 1671077854539,\n",
       " 'update_timestamp_ms': 1671077854539,\n",
       " 'start_timestamp_ms': 0,\n",
       " 'task_type': 'EXPORT_IMAGE',\n",
       " 'id': 'S2DPUQ44G4MHXAJ4DNTFVXMT',\n",
       " 'name': 'projects/earthengine-legacy/operations/S2DPUQ44G4MHXAJ4DNTFVXMT'}"
      ]
     },
     "execution_count": 168,
     "metadata": {},
     "output_type": "execute_result"
    }
   ],
   "source": [
    "Kal_L5 = L5.select(['SR_B1', 'SR_B2', 'SR_B3']).clip(kal).unmask()\n",
    "task_Kal_L5 = ee.batch.Export.image.toCloudStorage(**{\n",
    "    'image': Kal_L5 ,\n",
    "    'description': 'L5_Kal',\n",
    "    'fileNamePrefix' :'L5_Kal',\n",
    "    'crs': 'EPSG:4326',\n",
    "    'scale': 30,\n",
    "    'region': kal.geometry(),\n",
    "    'fileFormat': 'GeoTIFF',\n",
    "    'bucket': 'cog-bucket',\n",
    "    'maxPixels': 1e13,\n",
    "    'skipEmptyTiles' : True,\n",
    "    'formatOptions': {'cloudOptimized': True}\n",
    "})\n",
    "task_Kal_L5.start()\n",
    "task_Kal_L5.status()"
   ]
  },
  {
   "cell_type": "code",
   "execution_count": 177,
   "id": "435deeba-c13f-4730-9777-0a8318a7b9bf",
   "metadata": {},
   "outputs": [
    {
     "data": {
      "text/plain": [
       "{'state': 'COMPLETED',\n",
       " 'description': 'L5_Kal',\n",
       " 'creation_timestamp_ms': 1671077854539,\n",
       " 'update_timestamp_ms': 1671077977120,\n",
       " 'start_timestamp_ms': 1671077890869,\n",
       " 'task_type': 'EXPORT_IMAGE',\n",
       " 'destination_uris': ['https://console.developers.google.com/storage/browser/cog-bucket/'],\n",
       " 'attempt': 1,\n",
       " 'batch_eecu_usage_seconds': 3.0443482398986816,\n",
       " 'id': 'S2DPUQ44G4MHXAJ4DNTFVXMT',\n",
       " 'name': 'projects/earthengine-legacy/operations/S2DPUQ44G4MHXAJ4DNTFVXMT'}"
      ]
     },
     "execution_count": 177,
     "metadata": {},
     "output_type": "execute_result"
    }
   ],
   "source": [
    "task_Kal_L5.status()"
   ]
  },
  {
   "cell_type": "code",
   "execution_count": null,
   "id": "2685eb82-54bb-4552-ae97-c520a46344dc",
   "metadata": {},
   "outputs": [],
   "source": []
  }
 ],
 "metadata": {
  "kernelspec": {
   "display_name": "Python 3 (ipykernel)",
   "language": "python",
   "name": "python3"
  },
  "language_info": {
   "codemirror_mode": {
    "name": "ipython",
    "version": 3
   },
   "file_extension": ".py",
   "mimetype": "text/x-python",
   "name": "python",
   "nbconvert_exporter": "python",
   "pygments_lexer": "ipython3",
   "version": "3.9.12"
  }
 },
 "nbformat": 4,
 "nbformat_minor": 5
}
