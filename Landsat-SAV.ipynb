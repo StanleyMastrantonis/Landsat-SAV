{
 "cells": [
  {
   "cell_type": "raw",
   "id": "0d54ee91-2eb7-47e8-9b04-b9f0d80a6f26",
   "metadata": {},
   "source": [
    "---\n",
    "title: Landsat SAV\n",
    "author: Stanley Mastrantonis \n",
    "bibliography: references.bib\n",
    "csl: nature.csl\n",
    "format:\n",
    "  html:\n",
    "    toc: true\n",
    "    code-fold: true\n",
    "    self-contained: true\n",
    "    theme: paper\n",
    "---"
   ]
  },
  {
   "cell_type": "markdown",
   "id": "c0548df3-d1ed-42a7-b785-7829a65bece0",
   "metadata": {},
   "source": [
    "### Library and modules"
   ]
  },
  {
   "cell_type": "code",
   "execution_count": 1,
   "id": "c9e4799a-e2bb-48f2-8915-447e213bba97",
   "metadata": {},
   "outputs": [],
   "source": [
    "import numpy as np, pandas as pd, geopandas as gpd, sklearn.metrics as metrics\n",
    "import geemap, ee , rasterio, sankee, warnings, pickle\n",
    "from rasterio.plot import show\n",
    "from geopandas import GeoDataFrame\n",
    "from osgeo import gdal, osr, gdalconst\n",
    "import os, glob, subprocess\n",
    "import rasterio\n",
    "import matplotlib as mpl\n",
    "import matplotlib.pyplot as plt, plotly.express as px\n",
    "from geemap import ml\n",
    "from sklearn import ensemble\n",
    "from sklearn.cluster import DBSCAN, AgglomerativeClustering\n",
    "from scipy import stats\n",
    "from scipy.cluster.hierarchy import dendrogram, linkage\n",
    "from shapely.geometry import Polygon, Point\n",
    "from sklearn.metrics import confusion_matrix, cohen_kappa_score\n",
    "warnings.filterwarnings('ignore')"
   ]
  },
  {
   "cell_type": "markdown",
   "id": "b5d569e5-f7e4-429d-9d81-3f180e8352e2",
   "metadata": {},
   "source": [
    "### Earth Engine log in"
   ]
  },
  {
   "cell_type": "code",
   "execution_count": null,
   "id": "28acb930-72a4-46c6-ae71-689f5e7ac73d",
   "metadata": {},
   "outputs": [],
   "source": [
    "ee.Authenticate()"
   ]
  },
  {
   "cell_type": "code",
   "execution_count": 2,
   "id": "24be6b2f-c2c6-4888-adaa-c852c365926d",
   "metadata": {},
   "outputs": [],
   "source": [
    "ee.Initialize()"
   ]
  },
  {
   "cell_type": "code",
   "execution_count": 3,
   "id": "a5be41ef-1bc2-4333-8c13-6555d4b3275c",
   "metadata": {},
   "outputs": [],
   "source": [
    "######################## subset L8 collection   ########################################\n",
    "##################################################################################\n",
    "def getFactorImg(factorNames, image):\n",
    "    factorList = image.toDictionary().select(factorNames).values()\n",
    "    return ee.Image.constant(factorList)\n",
    "\n",
    "######################## pandas normalise   ########################################\n",
    "##################################################################################\n",
    "def NormalizeData(data):\n",
    "    return (data - np.min(data)) / (np.max(data) - np.min(data))\n",
    "\n",
    "######################## L8 cloud mask   ########################################\n",
    "##################################################################################\n",
    "def getQABits(image, start, end, mask):\n",
    "    pattern = 0\n",
    "    for i in range(start,end-1):\n",
    "        pattern += 2**i\n",
    "    return image.select([0], [mask]).bitwiseAnd(pattern).rightShift(start)\n",
    "\n",
    "\n",
    "def maskQuality(image):\n",
    "    QA = image.select('QA_PIXEL')\n",
    "    shadowMask = getQABits(QA,3,3,'cloud_shadow')\n",
    "    cloudMask = getQABits(QA,5,5,'cloud')\n",
    "    cirrusMask = getQABits(QA,9,9,'cirrus_detected')\n",
    "    scaleImg = getFactorImg(['REFLECTANCE_MULT_BAND_.|TEMPERATURE_MULT_BAND_ST_B10'], image)\n",
    "    offsetImg = getFactorImg(['REFLECTANCE_ADD_BAND_.|TEMPERATURE_ADD_BAND_ST_B10'], image)\n",
    "    scaled = image.select('SR_B.|ST_B10').multiply(scaleImg).add(offsetImg)\n",
    "    \n",
    "    return (image.addBands(scaled, None, True)\n",
    "            .updateMask(cirrusMask)\n",
    "            # .updateMask(cloudMask)\n",
    "            # .updateMask(shadowMask)\n",
    "            )\n",
    "\n",
    "\n",
    "\n",
    "def prepSrL8(image):\n",
    "    dilateMask = image.select('QA_PIXEL').bitwiseAnd(int('11111', 0)).eq(0)\n",
    "    cirrusMask = image.select('QA_PIXEL').bitwiseAnd(int('11111', 2)).eq(0)\n",
    "    cloudMask = image.select('QA_PIXEL').bitwiseAnd(int('11111', 3)).eq(0)\n",
    "    shadowMask =  image.select('QA_PIXEL').bitwiseAnd(int('11111', 4)).eq(0)\n",
    "    snowMask = image.select('QA_PIXEL').bitwiseAnd(int('11111', 5)).eq(0)\n",
    "    saturationMask = image.select('QA_RADSAT').eq(0)\n",
    "    scaleImg = getFactorImg(['REFLECTANCE_MULT_BAND_.|TEMPERATURE_MULT_BAND_ST_B10'], image)\n",
    "    offsetImg = getFactorImg(['REFLECTANCE_ADD_BAND_.|TEMPERATURE_ADD_BAND_ST_B10'], image)\n",
    "    scaled = image.select('SR_B.|ST_B10').multiply(scaleImg).add(offsetImg)\n",
    "\n",
    "    return (image.addBands(scaled, None, True)\n",
    "                 .updateMask(cirrusMask)\n",
    "                 # .updateMask(dilateMask)\n",
    "                 # .updateMask(cloudMask)\n",
    "                 # .updateMask(shadowMask)\n",
    "                 # .updateMask(snowMask)\n",
    "                 #.updateMask(saturationMask)\n",
    "           )\n",
    "\n",
    "######################## L8 scale factors   ####################################\n",
    "##################################################################################\n",
    "def apply_scale_factors(image):\n",
    "    opticalBands = image.select('SR_B.').multiply(0.0000275).add(-0.2)\n",
    "    thermalBands = image.select('ST_B.*').multiply(0.00341802).add(149.0)\n",
    "    return image.addBands(opticalBands, None, True).addBands(thermalBands, None, True)\n",
    "\n",
    "######################## convert L8 to SST   ####################################\n",
    "##################################################################################\n",
    "def sst(img):\n",
    "    thermalBands = img.select('ST_TRAD')\n",
    "    ln = k2_im.divide((k1_im.divide(thermalBands).add(1).log())).multiply(0.001).clip(site).rename(\"SST\")\n",
    "    #.convolve(kern)\n",
    "    return img.addBands(ln)\n",
    "\n",
    "######################## scale image   ####################################\n",
    "##################################################################################\n",
    "def scale(image):\n",
    "    return ee.Image(image).multiply(0.001)\n",
    "\n",
    "def addNDAVI(image):\n",
    "    ndvi = image.normalizedDifference(['SR_B1', 'SR_B5']).rename('NDAVI')\n",
    "    return image.addBands(ndvi)\n",
    "\n",
    "def addNDWI(image):\n",
    "    ndvi = image.normalizedDifference(['SR_B5', 'SR_B6']).rename('NDWI')\n",
    "    return image.addBands(ndvi)"
   ]
  },
  {
   "cell_type": "code",
   "execution_count": 81,
   "id": "96fadc27-e081-4191-9c8c-863e28f8d9e5",
   "metadata": {},
   "outputs": [],
   "source": [
    "hab = geemap.shp_to_ee(os.path.join(os.getcwd(),\n",
    "          'Data\\\\BOSS\\\\Cleaned\\\\BOSS_clip_cluster.shp'))\n",
    "\n",
    "sites = geemap.shp_to_ee(os.path.join(os.getcwd(),\n",
    "          'Data\\\\ICoAST sites\\\\WGS84\\\\ICOAST_sites.shp'))\n",
    "\n",
    "kal = geemap.shp_to_ee(os.path.join(os.getcwd(),\n",
    "          'Data\\\\ICoAST sites\\\\Sites\\\\Kalbarri.shp'))\n",
    "\n",
    "mask = geemap.shp_to_ee(os.path.join(os.getcwd(),\n",
    "          'Data\\\\Lidar mask\\\\Lidar_mask.shp'))\n",
    "\n",
    "lidar_url = 'gs://cog-bucket/lidar_cog.tif'\n",
    "lidar = geemap.load_GeoTIFF(lidar_url).rename('lidar')\n",
    "tr = geemap.shp_to_ee(os.path.join(os.getcwd(),\n",
    "          'Data\\\\ICoAST sites\\\\Sites\\\\Two_rocks.shp'))\n",
    "jur =  geemap.shp_to_ee(os.path.join(os.getcwd(),\n",
    "          'Data\\\\ICoAST sites\\\\Sites\\\\Jurien.shp'))\n",
    "\n",
    "#hab = hab.clip(mask)"
   ]
  },
  {
   "cell_type": "markdown",
   "id": "dceeed49-a8a0-474e-a4a2-b5d0b34ffe89",
   "metadata": {},
   "source": [
    "### L8 collection"
   ]
  },
  {
   "cell_type": "code",
   "execution_count": null,
   "id": "e69f09a8-8e4d-4e95-8bc8-398977dbfb31",
   "metadata": {},
   "outputs": [],
   "source": [
    "Map = geemap.Map(toolbar_ctrl=True, layer_ctrl=True)\n",
    "Map.centerObject(sites.geometry(), 5)\n",
    "Map.addLayer(mask,  {}, 'Sites')\n",
    "Map"
   ]
  },
  {
   "cell_type": "code",
   "execution_count": 140,
   "id": "e9042eb0-e29d-4dd9-8d3e-0607e4c939bf",
   "metadata": {},
   "outputs": [],
   "source": [
    "start_date = '2021-01-01'\n",
    "end_date = '2021-06-30'\n",
    "\n",
    "L8 = (\n",
    "    ee.ImageCollection('LANDSAT/LC08/C02/T1_L2')\n",
    "    .filterBounds(sites)\n",
    "    .filterMetadata('CLOUD_COVER', 'less_than', 5)\n",
    "    .filterDate(start_date, end_date)\n",
    "    #.filter(\"IMAGE_QUALITY > 8\")\n",
    "    .map(addNDAVI)\n",
    "    .map(addNDWI)\n",
    "    .map(prepSrL8)\n",
    "    .mean()\n",
    "    .clip(sites)\n",
    "    .addBands(lidar.rename('lidar'))\n",
    ")"
   ]
  },
  {
   "cell_type": "code",
   "execution_count": 131,
   "id": "018a5f89-15fb-4244-be63-4f02ffcb5ec9",
   "metadata": {},
   "outputs": [
    {
     "data": {
      "application/vnd.jupyter.widget-view+json": {
       "model_id": "4524969ccb724940aa52f5d5f5d0493a",
       "version_major": 2,
       "version_minor": 0
      },
      "text/plain": [
       "Map(center=[-26.38096118269607, 113.62250401413422], controls=(WidgetControl(options=['position', 'transparent…"
      ]
     },
     "metadata": {},
     "output_type": "display_data"
    }
   ],
   "source": [
    "Map = geemap.Map(toolbar_ctrl=True, layer_ctrl=True)\n",
    "Map.centerObject(sites.geometry(), 5)\n",
    "#Map.add_basemap('HYBRID')\n",
    "Map.addLayer(L8, {'bands': ['SR_B4', 'SR_B3', 'SR_B2'],'max': 0.1, 'min' : 0}, '2021')\n",
    "Map.addLayer(mask,  {}, 'Sites')\n",
    "Map.addLayer(hab,  {}, 'boss')\n",
    "Map"
   ]
  },
  {
   "cell_type": "code",
   "execution_count": 9,
   "id": "c1e64ffd-b91d-410f-b159-ecdb8f64c2a1",
   "metadata": {},
   "outputs": [],
   "source": [
    "glint = ee.FeatureCollection(Map.draw_features)\n",
    "# glint = geemap.shp_to_ee(os.path.join(os.getcwd(),\n",
    "#                         'Data\\\\Sunglint\\\\SG_poly.shp'))\n",
    "#Map_glint.addLayer(glint, {}, 'Glint')\n",
    "#Map.remove_drawn_features()\n",
    "#geemap.ee_to_shp(glint,os.path.join(os.getcwd(),\n",
    "#                      'Data\\\\Sunglint\\\\SG_poly.shp'))"
   ]
  },
  {
   "cell_type": "code",
   "execution_count": 21,
   "id": "3a8719a0-f988-44da-8c76-a38497a487ec",
   "metadata": {},
   "outputs": [],
   "source": [
    "B1 = L8.select(['SR_B5', 'SR_B1'])\n",
    "B2 = L8.select(['SR_B5', 'SR_B2'])\n",
    "B3 = L8.select(['SR_B5', 'SR_B3'])\n",
    "B4 = L8.select(['SR_B5', 'SR_B4'])\n",
    "#B8 = S2S.select(['B8', 'B8'])\n",
    "\n",
    "\n",
    "lfitB1 = B1.reduceRegion(\n",
    "              reducer=ee.Reducer.linearFit(),\n",
    "              geometry=glint,\n",
    "              scale=30,\n",
    "              #maxPixels =  1000,\n",
    "              bestEffort = True)\n",
    "\n",
    "lfitB2 = B2.reduceRegion(\n",
    "              reducer=ee.Reducer.linearFit(),\n",
    "              geometry=glint,\n",
    "              scale=30,\n",
    "              #maxPixels =  1000,\n",
    "              bestEffort = True)\n",
    "\n",
    "lfitB3 = B3.reduceRegion(\n",
    "              reducer=ee.Reducer.linearFit(),\n",
    "              geometry=glint,\n",
    "              scale=30,\n",
    "              #maxPixels =  1000,\n",
    "              bestEffort = True)\n",
    "\n",
    "lfitB4 = B4.reduceRegion(\n",
    "              reducer=ee.Reducer.linearFit(),\n",
    "              geometry=glint,\n",
    "              scale=30,\n",
    "              #maxPixels =  1000,\n",
    "              bestEffort = True)\n",
    "\n",
    "\n",
    "slope_B1 = ee.Image.constant(lfitB1.get('scale')).clip(mask).rename('slope_B1')\n",
    "slope_B2 = ee.Image.constant(lfitB2.get('scale')).clip(mask).rename('slope_B2')\n",
    "slope_B3 = ee.Image.constant(lfitB3.get('scale')).clip(mask).rename('slope_B3')\n",
    "slope_B4 = ee.Image.constant(lfitB4.get('scale')).clip(mask).rename('slope_B4')\n",
    "#slope_B8 = ee.Image.constant(lfitB8.get('scale')).clip(coastal_waters).rename('slope_B8')\n",
    "min_B5 = ee.Image.constant(L8.select('SR_B5').reduceRegion(ee.Reducer.min(),geometry = glint, scale = 30).get('SR_B5')).rename('min_B5')\n",
    "\n",
    "glint_factors = ee.Image([slope_B1, slope_B2, slope_B3, slope_B4, min_B5])\n",
    "L8_add = L8.addBands(glint_factors)\n",
    "\n",
    "\n",
    "deglint_B1 = L8_add.expression(\n",
    "    'Blue - (Slope * (NIR - MinNIR))', {\n",
    "    'Blue': L8_add.select('SR_B1'),\n",
    "    'NIR': L8_add.select('SR_B5'),\n",
    "    'MinNIR': L8_add.select('min_B5'),\n",
    "    'Slope': L8_add.select('slope_B1')\n",
    "}).rename('SR_B1')\n",
    "\n",
    "deglint_B2 = L8_add.expression(\n",
    "    'Blue - (Slope * (NIR - MinNIR))', {\n",
    "    'Blue': L8_add.select('SR_B2'),\n",
    "    'NIR': L8_add.select('SR_B5'),\n",
    "    'MinNIR': L8_add.select('min_B5'),\n",
    "    'Slope': L8_add.select('slope_B2')\n",
    "}).rename('SR_B2')\n",
    "\n",
    "deglint_B3 = L8_add.expression(\n",
    "    'Green - (Slope * (NIR - MinNIR))', {\n",
    "    'Green': L8_add.select('SR_B3'),\n",
    "    'NIR': L8_add.select('SR_B5'),\n",
    "    'MinNIR': L8_add.select('min_B5'),\n",
    "    'Slope': L8_add.select('slope_B3')\n",
    "}).rename('SR_B3')\n",
    "\n",
    "deglint_B4 = L8_add.expression(\n",
    "    'Red - (Slope * (NIR - MinNIR))', {\n",
    "    'Red': L8_add.select('SR_B4'),\n",
    "    'NIR': L8_add.select('SR_B5'),\n",
    "    'MinNIR': L8_add.select('min_B5'),\n",
    "    'Slope': L8_add.select('slope_B4')\n",
    "}).rename('SR_B4')\n",
    "\n",
    "\n",
    "\n",
    "L8_deglint = ee.Image([deglint_B1, deglint_B2, deglint_B3, deglint_B4])\n",
    "L8_deglint = L8_deglint.addBands(L8.select(['SR_B5']))\n",
    "L8_deglint = L8_deglint.addBands(L8.select(['SR_B6']))\n",
    "L8_deglint = addNDAVI(L8_deglint)\n",
    "L8_deglint = addNDWI(L8_deglint)"
   ]
  },
  {
   "cell_type": "code",
   "execution_count": 22,
   "id": "e2a6705f-f04b-4784-b9e1-70ca76965b6f",
   "metadata": {},
   "outputs": [
    {
     "data": {
      "application/vnd.jupyter.widget-view+json": {
       "model_id": "63bc690eb0ee409a9e6b3c8bb26fa226",
       "version_major": 2,
       "version_minor": 0
      },
      "text/plain": [
       "Map(bottom=621436.0, center=[-31.527043924837933, 115.74062347412111], controls=(WidgetControl(options=['posit…"
      ]
     },
     "metadata": {},
     "output_type": "display_data"
    }
   ],
   "source": [
    "Map.addLayer(L8_deglint, {'bands': ['SR_B4', 'SR_B3', 'SR_B2'],'max': 0.1, 'min' : 0}, 'Deglint')\n",
    "Map"
   ]
  },
  {
   "cell_type": "code",
   "execution_count": 141,
   "id": "a2a151b1-6d36-4d30-a241-dc2d719f95c8",
   "metadata": {},
   "outputs": [],
   "source": [
    "start_date = '2013-01-01'\n",
    "end_date = '2013-06-30'\n",
    "\n",
    "L8_13 = (\n",
    "    ee.ImageCollection('LANDSAT/LC08/C02/T1_L2')\n",
    "    .filterBounds(sites)\n",
    "    .filterMetadata('CLOUD_COVER', 'less_than', 5)\n",
    "    .filterDate(start_date, end_date)\n",
    "    #.filter(\"IMAGE_QUALITY > 7\")\n",
    "    .map(addNDAVI)\n",
    "    .map(addNDWI)\n",
    "    .map(prepSrL8)\n",
    "    .mean()\n",
    "    .clip(sites)\n",
    "    #.addBands(lidar.rename('lidar'))\n",
    ")"
   ]
  },
  {
   "cell_type": "code",
   "execution_count": 132,
   "id": "b6f652ba-3851-4ddd-8dd4-94ddfe9267ce",
   "metadata": {},
   "outputs": [
    {
     "data": {
      "application/vnd.jupyter.widget-view+json": {
       "model_id": "4524969ccb724940aa52f5d5f5d0493a",
       "version_major": 2,
       "version_minor": 0
      },
      "text/plain": [
       "Map(center=[-26.38096118269607, 113.62250401413422], controls=(WidgetControl(options=['position', 'transparent…"
      ]
     },
     "metadata": {},
     "output_type": "display_data"
    }
   ],
   "source": [
    "# Map = geemap.Map(toolbar_ctrl=True, layer_ctrl=True)\n",
    "# Map.centerObject(sites.geometry(), 5)\n",
    "Map.addLayer(L8_13, {'bands': ['SR_B4', 'SR_B3', 'SR_B2'],'max': 0.1, 'min' : 0}, '2013')\n",
    "Map"
   ]
  },
  {
   "cell_type": "code",
   "execution_count": 142,
   "id": "21f44874-797b-4d3b-b6c2-f4a8f1c3bae3",
   "metadata": {},
   "outputs": [],
   "source": [
    "start_date = '2011-01-01'\n",
    "end_date = '2011-12-30'\n",
    "\n",
    "L5 = (\n",
    "    ee.ImageCollection('LANDSAT/LT05/C02/T1_L2')\n",
    "    .filterBounds(sites)\n",
    "    .filterMetadata('CLOUD_COVER', 'less_than', 5)\n",
    "    #.filter(\"IMAGE_QUALITY == 9\")\n",
    "    .filterDate(start_date, end_date)\n",
    "    .map(prepSrL8)\n",
    "    .mean()\n",
    "    .clip(sites)\n",
    ")"
   ]
  },
  {
   "cell_type": "code",
   "execution_count": 143,
   "id": "6dd73b66-1f7a-4159-9487-6846ac010fd2",
   "metadata": {},
   "outputs": [
    {
     "data": {
      "application/vnd.jupyter.widget-view+json": {
       "model_id": "4524969ccb724940aa52f5d5f5d0493a",
       "version_major": 2,
       "version_minor": 0
      },
      "text/plain": [
       "Map(bottom=1233957.0, center=[-30.258029283193746, 115.05260467529298], controls=(WidgetControl(options=['posi…"
      ]
     },
     "metadata": {},
     "output_type": "display_data"
    }
   ],
   "source": [
    "# Map = geemap.Map(toolbar_ctrl=True, layer_ctrl=True)\n",
    "# Map.centerObject(sites.geometry(), 5)\n",
    "# Map.add_basemap('HYBRID')\n",
    "Map.addLayer(L5, {'bands': ['SR_B3', 'SR_B2', 'SR_B1'],'max': 0.1, 'min' : 0}, '2010')\n",
    "Map.addLayer(sites,  {}, 'Sites')\n",
    "Map"
   ]
  },
  {
   "cell_type": "code",
   "execution_count": 31,
   "id": "1abf19db-f2bd-4a6f-9b01-55f168a140fa",
   "metadata": {},
   "outputs": [],
   "source": [
    "proj = ee.Projection('EPSG:4326')\n",
    "ndavi_dat = geemap.extract_values_to_points(hab,\n",
    "                                            L8.select('NDAVI'), \n",
    "                                            crs = proj, \n",
    "                                            scale = 30)\n",
    "\n",
    "ndwi_dat = geemap.extract_values_to_points(hab,\n",
    "                                            L8.select('NDWI'), \n",
    "                                            crs = proj, \n",
    "                                            scale = 30)\n",
    "\n",
    "b1_dat = geemap.extract_values_to_points(hab,\n",
    "                                         L8.select('SR_B1'), \n",
    "                                         crs = proj, \n",
    "                                         scale = 30)\n",
    "\n",
    "gr_dat = geemap.extract_values_to_points(hab,\n",
    "                                         L8.select('SR_B2'), \n",
    "                                         crs = proj, \n",
    "                                         scale = 30)\n",
    "\n",
    "lid_dat = geemap.extract_values_to_points(hab,\n",
    "                                         L8.select('lidar'), \n",
    "                                         crs = proj, \n",
    "                                         scale = 30)\n",
    "\n",
    "ndavi_dat  = geemap.ee_to_pandas(ndavi_dat)\n",
    "b1_dat  = geemap.ee_to_pandas(b1_dat)\n",
    "ndwi_dat = geemap.ee_to_pandas(ndwi_dat)\n",
    "gr_dat = geemap.ee_to_pandas(gr_dat)\n",
    "lid_dat = geemap.ee_to_pandas(lid_dat)"
   ]
  },
  {
   "cell_type": "code",
   "execution_count": 32,
   "id": "53d5fb3d-b750-49b2-b4cc-47db14722088",
   "metadata": {},
   "outputs": [
    {
     "name": "stdout",
     "output_type": "stream",
     "text": [
      "<class 'pandas.core.frame.DataFrame'>\n",
      "RangeIndex: 192 entries, 0 to 191\n",
      "Data columns (total 24 columns):\n",
      " #   Column      Non-Null Count  Dtype  \n",
      "---  ------      --------------  -----  \n",
      " 0   first       191 non-null    float64\n",
      " 1   date        192 non-null    object \n",
      " 2   broad_Ston  192 non-null    int64  \n",
      " 3   image       192 non-null    object \n",
      " 4   Total_adj   192 non-null    int64  \n",
      " 5   broad_Unkn  192 non-null    int64  \n",
      " 6   visibility  192 non-null    object \n",
      " 7   broad_Spon  192 non-null    int64  \n",
      " 8   latitude    192 non-null    float64\n",
      " 9   fov_Limite  192 non-null    float64\n",
      " 10  Cluster     192 non-null    object \n",
      " 11  broad_Seag  192 non-null    int64  \n",
      " 12  mean_relie  192 non-null    float64\n",
      " 13  sample      192 non-null    object \n",
      " 14  sd_relief   192 non-null    float64\n",
      " 15  site        192 non-null    object \n",
      " 16  time_botto  192 non-null    object \n",
      " 17  broad_Macr  192 non-null    int64  \n",
      " 18  location    192 non-null    object \n",
      " 19  broad_Cons  192 non-null    int64  \n",
      " 20  fov_Open    192 non-null    float64\n",
      " 21  Total_Sum   192 non-null    int64  \n",
      " 22  broad_Unco  192 non-null    int64  \n",
      " 23  longitude   192 non-null    float64\n",
      "dtypes: float64(7), int64(9), object(8)\n",
      "memory usage: 36.1+ KB\n"
     ]
    }
   ],
   "source": [
    "#ndwi_dat.info()\n",
    "ndavi_dat.info()"
   ]
  },
  {
   "cell_type": "code",
   "execution_count": 50,
   "id": "52b24fda-29de-4702-bff1-a7e218f28c73",
   "metadata": {},
   "outputs": [],
   "source": [
    "ndavi_dat = ndavi_dat.rename(columns={'first': 'NDAVI'})\n",
    "b1_dat = b1_dat.rename(columns={'first': 'SR_B1'})\n",
    "ndwi_dat = ndwi_dat.rename(columns={'first': 'NDWI'})\n",
    "gr_dat = gr_dat.rename(columns={'first': 'SR_B2'})\n",
    "lid_dat = lid_dat.rename(columns={'first': 'lidar'})\n",
    "\n",
    "train_df = ndavi_dat\n",
    "train_df['SR_B1'] = b1_dat['SR_B1']\n",
    "train_df['NDWI'] = ndwi_dat['NDWI']\n",
    "train_df['SR_B2'] = gr_dat['SR_B2']\n",
    "train_df['lidar'] = lid_dat['lidar']\n",
    "train_split = train_df.sample(frac=0.8,random_state=2)\n",
    "train_split = train_split.dropna(subset=['NDAVI', 'SR_B1', 'NDWI', 'Cluster', 'lidar'])\n",
    "test_split = train_df.drop(train_split.index)\n",
    "test_split = test_split.dropna(subset=['NDAVI', 'SR_B1', 'NDWI', 'Cluster', 'lidar'])\n",
    "\n",
    "feature_names = ['NDAVI', 'SR_B1', 'NDWI', 'SR_B2', 'lidar']\n",
    "label = \"Cluster\"\n",
    "X = train_split[feature_names]\n",
    "y = train_split[label]"
   ]
  },
  {
   "cell_type": "code",
   "execution_count": 55,
   "id": "30ef84e9-ed1d-433e-9458-a298c7afb0e0",
   "metadata": {},
   "outputs": [],
   "source": [
    "n_trees = 1000\n",
    "rf = (\n",
    "     ensemble.RandomForestClassifier(n_trees,\n",
    "                                    max_features= 'sqrt',\n",
    "                                    max_depth = 7,\n",
    "                                    ccp_alpha=0.001,\n",
    "                                    oob_score = True)\n",
    "                                    .fit(X, y)\n",
    ")\n",
    "\n",
    "pred = rf.predict(test_split[feature_names])"
   ]
  },
  {
   "cell_type": "code",
   "execution_count": 56,
   "id": "f7b940d8-dbe6-4424-a98b-7fae1dffa17b",
   "metadata": {},
   "outputs": [
    {
     "data": {
      "text/plain": [
       "0.2964205816554809"
      ]
     },
     "execution_count": 56,
     "metadata": {},
     "output_type": "execute_result"
    }
   ],
   "source": [
    "confusion_matrix(test_split[label], pred)\n",
    "cohen_kappa_score(test_split[label], pred)"
   ]
  },
  {
   "cell_type": "code",
   "execution_count": 57,
   "id": "f7b62fb5-402a-44b4-9411-ecb8d1435b55",
   "metadata": {},
   "outputs": [],
   "source": [
    "trees = ml.rf_to_strings(rf, \n",
    "                        feature_names,\n",
    "                        processes=3,\n",
    "                        output_mode = 'CLASSIFICATION')\n",
    "ee_classifier = ml.strings_to_classifier(trees)\n",
    "classified = L8.select(feature_names).classify(ee_classifier)"
   ]
  },
  {
   "cell_type": "code",
   "execution_count": 58,
   "id": "8096d513-2d60-478d-af7d-13b1798e6415",
   "metadata": {},
   "outputs": [],
   "source": [
    "ee_classifier = ml.strings_to_classifier(trees)\n",
    "classified = L8.select(feature_names).classify(ee_classifier)"
   ]
  },
  {
   "cell_type": "code",
   "execution_count": 59,
   "id": "b82ad2b8-a09c-498d-a36b-cd2895663bdd",
   "metadata": {},
   "outputs": [
    {
     "data": {
      "application/vnd.jupyter.widget-view+json": {
       "model_id": "2638559d36774218bf4531b4a1cedaa8",
       "version_major": 2,
       "version_minor": 0
      },
      "text/plain": [
       "Map(center=[20, 0], controls=(WidgetControl(options=['position', 'transparent_bg'], widget=HBox(children=(Togg…"
      ]
     },
     "metadata": {},
     "output_type": "display_data"
    }
   ],
   "source": [
    "Map_pred = geemap.Map(toolbar_ctrl=True, layer_ctrl=True)\n",
    "Map_pred.add_basemap('HYBRID')\n",
    "vis_pred = {\n",
    "    'min': 0,\n",
    "    'max': 1,\n",
    "    'palette': ['#9EE953', '#D2B866', '#3A570B'],\n",
    "}\n",
    "\n",
    "Map_pred.addLayer(classified, vis_pred  ,'classification',\n",
    ")\n",
    "\n",
    "Map_pred\n"
   ]
  },
  {
   "cell_type": "code",
   "execution_count": null,
   "id": "11c04f71-4b0b-4559-8bba-986420b77bda",
   "metadata": {},
   "outputs": [],
   "source": [
    "Kal_L8 = L8.select(['SR_B2', 'SR_B3', 'SR_B4']).clip(kal).unmask()\n",
    "task_Kal_L8 = ee.batch.Export.image.toCloudStorage(**{\n",
    "    'image': Kal_L8 ,\n",
    "    'description': 'L8_Kal',\n",
    "    'fileNamePrefix' :'L8_Kal',\n",
    "    'crs': 'EPSG:4326',\n",
    "    'scale': 30,\n",
    "    'region': kal.geometry(),\n",
    "    'fileFormat': 'GeoTIFF',\n",
    "    'bucket': 'cog-bucket',\n",
    "    'maxPixels': 1e13,\n",
    "    'skipEmptyTiles' : True,\n",
    "    'formatOptions': {'cloudOptimized': True}\n",
    "})\n",
    "task_Kal_L8.start()\n",
    "task_Kal_L8.status()"
   ]
  },
  {
   "cell_type": "code",
   "execution_count": null,
   "id": "23282559-9a3e-4b0a-82b4-50980a808135",
   "metadata": {},
   "outputs": [],
   "source": [
    "task_Kal_L8.status()"
   ]
  },
  {
   "cell_type": "code",
   "execution_count": null,
   "id": "165294a0-019f-4317-a725-ef4c0aae07e3",
   "metadata": {},
   "outputs": [],
   "source": [
    "Kal_L8_13 = L8_13.select(['SR_B2', 'SR_B3', 'SR_B4']).clip(kal).unmask()\n",
    "task_Kal_L8_13 = ee.batch.Export.image.toCloudStorage(**{\n",
    "    'image': Kal_L8_13 ,\n",
    "    'description': 'L8_13_Kal',\n",
    "    'fileNamePrefix' :'L8_13_Kal',\n",
    "    'crs': 'EPSG:4326',\n",
    "    'scale': 30,\n",
    "    'region': kal.geometry(),\n",
    "    'fileFormat': 'GeoTIFF',\n",
    "    'bucket': 'cog-bucket',\n",
    "    'maxPixels': 1e13,\n",
    "    'skipEmptyTiles' : True,\n",
    "    'formatOptions': {'cloudOptimized': True}\n",
    "})\n",
    "task_Kal_L8_13.start()\n",
    "task_Kal_L8_13.status()"
   ]
  },
  {
   "cell_type": "code",
   "execution_count": null,
   "id": "f3f02e85-ad35-4481-b495-ba8cb555ea43",
   "metadata": {},
   "outputs": [],
   "source": [
    "task_Kal_L8_13.status()"
   ]
  },
  {
   "cell_type": "code",
   "execution_count": null,
   "id": "e346681c-00ac-4396-be86-b1b713dc6ed6",
   "metadata": {},
   "outputs": [],
   "source": [
    "Kal_L5 = L5.select(['SR_B1', 'SR_B2', 'SR_B3']).clip(kal).unmask()\n",
    "task_Kal_L5 = ee.batch.Export.image.toCloudStorage(**{\n",
    "    'image': Kal_L5 ,\n",
    "    'description': 'L5_Kal',\n",
    "    'fileNamePrefix' :'L5_Kal',\n",
    "    'crs': 'EPSG:4326',\n",
    "    'scale': 30,\n",
    "    'region': kal.geometry(),\n",
    "    'fileFormat': 'GeoTIFF',\n",
    "    'bucket': 'cog-bucket',\n",
    "    'maxPixels': 1e13,\n",
    "    'skipEmptyTiles' : True,\n",
    "    'formatOptions': {'cloudOptimized': True}\n",
    "})\n",
    "task_Kal_L5.start()\n",
    "task_Kal_L5.status()"
   ]
  },
  {
   "cell_type": "code",
   "execution_count": null,
   "id": "435deeba-c13f-4730-9777-0a8318a7b9bf",
   "metadata": {},
   "outputs": [],
   "source": [
    "task_Kal_L5.status()"
   ]
  },
  {
   "cell_type": "code",
   "execution_count": 70,
   "id": "13cc88b7-4b51-4f2c-b40e-f5efc9c8069e",
   "metadata": {},
   "outputs": [],
   "source": [
    "g = ee.Geometry(mask.geometry())"
   ]
  },
  {
   "cell_type": "code",
   "execution_count": 90,
   "id": "2685eb82-54bb-4552-ae97-c520a46344dc",
   "metadata": {},
   "outputs": [
    {
     "data": {
      "application/vnd.jupyter.widget-view+json": {
       "model_id": "9155a56d51a5449b8317fd5627ed2b9f",
       "version_major": 2,
       "version_minor": 0
      },
      "text/plain": [
       "Map(bottom=1233982.0, center=[-30.261736090037466, 115.04934310913087], controls=(WidgetControl(options=['posi…"
      ]
     },
     "metadata": {},
     "output_type": "display_data"
    }
   ],
   "source": [
    "training = L8.select(['SR_B2','SR_B3','SR_B4']).clip(jur).sample(\n",
    "    **{\n",
    "        'region': jur.geometry(),\n",
    "        'scale': 30,\n",
    "        'numPixels': 5000,\n",
    "        'seed': 0,\n",
    "        'geometries': True,  # Set this to False to ignore geometries\n",
    "    }\n",
    ")\n",
    "\n",
    "# Instantiate the clusterer and train it.\n",
    "n_clusters = 2\n",
    "clusterer = ee.Clusterer.wekaKMeans(n_clusters).train(training)\n",
    "# Cluster the input using the trained clusterer.\n",
    "result = L8.cluster(clusterer)\n",
    "\n",
    "# # Display the clusters with random colors.\n",
    "Map.addLayer(result.randomVisualizer(), {}, 'clusters')\n",
    "Map"
   ]
  },
  {
   "cell_type": "code",
   "execution_count": null,
   "id": "5b9cf080-fbdf-43e4-a939-4308dc18178e",
   "metadata": {},
   "outputs": [],
   "source": []
  }
 ],
 "metadata": {
  "kernelspec": {
   "display_name": "Python 3 (ipykernel)",
   "language": "python",
   "name": "python3"
  },
  "language_info": {
   "codemirror_mode": {
    "name": "ipython",
    "version": 3
   },
   "file_extension": ".py",
   "mimetype": "text/x-python",
   "name": "python",
   "nbconvert_exporter": "python",
   "pygments_lexer": "ipython3",
   "version": "3.9.13"
  }
 },
 "nbformat": 4,
 "nbformat_minor": 5
}
