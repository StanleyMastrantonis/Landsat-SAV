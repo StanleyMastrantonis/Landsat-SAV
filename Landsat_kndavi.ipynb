{
 "cells": [
  {
   "cell_type": "raw",
   "id": "74ae086b-eacd-4104-90cf-58dc1421f8fb",
   "metadata": {},
   "source": [
    "---\n",
    "title: Landsat SAV\n",
    "author: Stanley Mastrantonis \n",
    "format:\n",
    "  html:\n",
    "    toc: true\n",
    "    code-fold: true\n",
    "    self-contained: true\n",
    "    theme: paper\n",
    "---"
   ]
  },
  {
   "cell_type": "code",
   "execution_count": 1,
   "id": "dbd88dbb-c671-4f36-939b-8bc9cb1ed83c",
   "metadata": {
    "tags": []
   },
   "outputs": [],
   "source": [
    "import numpy as np, pandas as pd, geopandas as gpd, sklearn.metrics as metrics\n",
    "import geemap, ee , rasterio, sankee, warnings, pickle, os, glob, subprocess, json, fiona\n",
    "from matplotlib.lines import Line2D\n",
    "from rasterio import features\n",
    "from geopandas import GeoDataFrame\n",
    "from mpl_toolkits.axes_grid1.inset_locator import inset_axes\n",
    "from matplotlib.colors import ListedColormap, LinearSegmentedColormap\n",
    "from rasterio.mask import mask\n",
    "from osgeo import gdal, osr, gdalconst\n",
    "import numpy.ma as ma\n",
    "import rasterio, pickle\n",
    "import matplotlib as mpl\n",
    "import matplotlib.pyplot as plt, plotly.express as px\n",
    "from sklearn import ensemble\n",
    "from sklearn.cluster import DBSCAN, AgglomerativeClustering\n",
    "from matplotlib_scalebar.scalebar import ScaleBar\n",
    "from scipy import stats\n",
    "import seaborn as sns\n",
    "import statsmodels\n",
    "import glob\n",
    "from glob import glob\n",
    "import rasterio.plot as rplot\n",
    "from scipy.cluster.hierarchy import dendrogram, linkage\n",
    "from shapely.geometry import Polygon, Point, box\n",
    "from rasterio.plot import show\n",
    "import rioxarray as rxr\n",
    "from rio_cogeo.profiles import cog_profiles\n",
    "from rasterio.merge import merge\n",
    "from rasterstats import zonal_stats\n",
    "from geocube.api.core import make_geocube\n",
    "from typing import List\n",
    "from typing import Union\n",
    "warnings.filterwarnings('ignore')"
   ]
  },
  {
   "cell_type": "code",
   "execution_count": 2,
   "id": "510baf20-f010-48aa-8903-fd4c026043be",
   "metadata": {
    "tags": []
   },
   "outputs": [],
   "source": [
    "from functions import *"
   ]
  },
  {
   "cell_type": "code",
   "execution_count": 5,
   "id": "7e71272d-6a9f-4791-a06b-ae1d014ace43",
   "metadata": {
    "tags": []
   },
   "outputs": [
    {
     "data": {
      "text/html": [
       "<p>To authorize access needed by Earth Engine, open the following\n",
       "        URL in a web browser and follow the instructions:</p>\n",
       "        <p><a href=https://code.earthengine.google.com/client-auth?scopes=https%3A//www.googleapis.com/auth/earthengine%20https%3A//www.googleapis.com/auth/devstorage.full_control&request_id=mbPKyDISveaWQZ2NS1PAs_ECaiuXnSKbsctkgnYTSmg&tc=uFESSDzFMoBaqD92ty-0pCWR4Fw13DysD5LcdAItcWM&cc=_19grWtgIRqTPBtRfleDNDluL9XwURxUpKu0T-udc2Q>https://code.earthengine.google.com/client-auth?scopes=https%3A//www.googleapis.com/auth/earthengine%20https%3A//www.googleapis.com/auth/devstorage.full_control&request_id=mbPKyDISveaWQZ2NS1PAs_ECaiuXnSKbsctkgnYTSmg&tc=uFESSDzFMoBaqD92ty-0pCWR4Fw13DysD5LcdAItcWM&cc=_19grWtgIRqTPBtRfleDNDluL9XwURxUpKu0T-udc2Q</a></p>\n",
       "        <p>The authorization workflow will generate a code, which you should paste in the box below.</p>\n",
       "        "
      ],
      "text/plain": [
       "<IPython.core.display.HTML object>"
      ]
     },
     "metadata": {},
     "output_type": "display_data"
    },
    {
     "name": "stdin",
     "output_type": "stream",
     "text": [
      "Enter verification code:  4/1AbUR2VNC3_tMsSO1YamPAjtQXPy9UA-GZ8XCRHba8OR-SNuuckxcLS50nzY\n"
     ]
    },
    {
     "name": "stdout",
     "output_type": "stream",
     "text": [
      "\n",
      "Successfully saved authorization token.\n"
     ]
    }
   ],
   "source": [
    "#ee.Authenticate()"
   ]
  },
  {
   "cell_type": "code",
   "execution_count": 3,
   "id": "e93e367c-63cb-4ab5-b183-7a5674903f94",
   "metadata": {
    "tags": []
   },
   "outputs": [],
   "source": [
    "ee.Initialize()"
   ]
  },
  {
   "cell_type": "code",
   "execution_count": null,
   "id": "4f00196a-1cf3-4dc1-987c-99480263a7cc",
   "metadata": {},
   "outputs": [],
   "source": [
    "## shp read in"
   ]
  },
  {
   "cell_type": "code",
   "execution_count": 4,
   "id": "17e2a003-6513-4f46-9166-7a8515e1a8e3",
   "metadata": {
    "tags": []
   },
   "outputs": [],
   "source": [
    "hab = geemap.shp_to_ee(os.path.join(os.getcwd(),\n",
    "          'Data\\\\BOSS\\\\Cleaned\\\\BOSS_clip_cluster.shp'))\n",
    "\n",
    "midwest = geemap.shp_to_ee(os.path.join(os.getcwd(),\n",
    "          'Data\\\\ICoAST sites\\\\WGS84\\\\ICOAST_midwest.shp'))\n",
    "\n",
    "don = geemap.shp_to_ee(os.path.join(os.getcwd(),\n",
    "          'Data\\\\ICoAST sites\\\\Sites\\\\Dongara.shp'))\n",
    "\n",
    "sites = midwest.merge(don)"
   ]
  },
  {
   "cell_type": "code",
   "execution_count": 17,
   "id": "eee64f02-9e68-4b8e-a506-f190960b143e",
   "metadata": {
    "tags": []
   },
   "outputs": [],
   "source": [
    "start_date = '2022-01-01'\n",
    "end_date = '2022-12-30'\n",
    "L8_2022 = get_LS8_image(sites = sites, start_date = start_date, end_date = end_date)\n",
    "\n",
    "\n",
    "start_date = '2021-01-01'\n",
    "end_date = '2021-12-30'\n",
    "L8_2021 = get_LS8_image(sites = sites, start_date = start_date, end_date = end_date)\n",
    "\n",
    "# L8_2021 = (\n",
    "#     ee.ImageCollection('LANDSAT/LC08/C02/T1_L2')\n",
    "#     .filterBounds(sites)\n",
    "#     .filterMetadata('CLOUD_COVER', 'less_than', 5)\n",
    "#     .filterDate(start_date, end_date)\n",
    "#     .map(fmask)\n",
    "#     .median()\n",
    "#     .clip(sites)\n",
    "# )\n",
    "\n",
    "# start_date = '2020-01-01'\n",
    "# end_date = '2020-12-30'\n",
    "\n",
    "# L8_2020 = (\n",
    "#     ee.ImageCollection('LANDSAT/LC08/C02/T1_L2')\n",
    "#     .filterBounds(sites)\n",
    "#     .filterMetadata('CLOUD_COVER', 'less_than', 5)\n",
    "#     .filterDate(start_date, end_date)\n",
    "#     .map(fmask)\n",
    "#     .median()\n",
    "#     .clip(sites)\n",
    "# )\n",
    "\n",
    "# start_date = '2019-01-01'\n",
    "# end_date = '2019-12-30'\n",
    "\n",
    "# L8_2019 = (\n",
    "#     ee.ImageCollection('LANDSAT/LC08/C02/T1_L2')\n",
    "#     .filterBounds(sites)\n",
    "#     .filterMetadata('CLOUD_COVER', 'less_than', 5)\n",
    "#     .filterDate(start_date, end_date)\n",
    "#     .map(fmask)\n",
    "#     .median()\n",
    "#     .clip(sites)\n",
    "# )\n",
    "\n",
    "# start_date = '2018-01-01'\n",
    "# end_date = '2018-12-30'\n",
    "\n",
    "# L8_2018 = (\n",
    "#     ee.ImageCollection('LANDSAT/LC08/C02/T1_L2')\n",
    "#     .filterBounds(sites)\n",
    "#     .filterMetadata('CLOUD_COVER', 'less_than', 5)\n",
    "#     .filterDate(start_date, end_date)\n",
    "#     .map(fmask)\n",
    "#     .median()\n",
    "#     .clip(sites)\n",
    "# )\n",
    "\n",
    "\n",
    "# start_date = '2017-01-01'\n",
    "# end_date = '2017-12-30'\n",
    "\n",
    "# L8_2017 = (\n",
    "#     ee.ImageCollection('LANDSAT/LC08/C02/T1_L2')\n",
    "#     .filterBounds(sites)\n",
    "#     .filterMetadata('CLOUD_COVER', 'less_than', 5)\n",
    "#     .filterDate(start_date, end_date)\n",
    "#     .map(fmask)\n",
    "#     .median()\n",
    "#     .clip(sites)\n",
    "# )\n",
    "\n",
    "\n",
    "# start_date = '2016-01-01'\n",
    "# end_date = '2016-12-30'\n",
    "\n",
    "# L8_2016 = (\n",
    "#     ee.ImageCollection('LANDSAT/LC08/C02/T1_L2')\n",
    "#     .filterBounds(sites)\n",
    "#     .filterMetadata('CLOUD_COVER', 'less_than', 5)\n",
    "#     .filterDate(start_date, end_date)\n",
    "#     .map(fmask)\n",
    "#     .median()\n",
    "#     .clip(sites)\n",
    "# )\n",
    "\n",
    "# start_date = '2015-01-01'\n",
    "# end_date = '2015-12-30'\n",
    "\n",
    "# L8_2015 = (\n",
    "#     ee.ImageCollection('LANDSAT/LC08/C02/T1_L2')\n",
    "#     .filterBounds(sites)\n",
    "#     .filterMetadata('CLOUD_COVER', 'less_than', 5)\n",
    "#     .filterDate(start_date, end_date)\n",
    "#     .map(fmask)\n",
    "#     .median()\n",
    "#     .clip(sites)\n",
    "# )\n",
    "\n",
    "# start_date = '2014-01-01'\n",
    "# end_date = '2014-12-30'\n",
    "\n",
    "# L8_2014 = (\n",
    "#     ee.ImageCollection('LANDSAT/LC08/C02/T1_L2')\n",
    "#     .filterBounds(sites)\n",
    "#     .filterMetadata('CLOUD_COVER', 'less_than', 5)\n",
    "#     .filterDate(start_date, end_date)\n",
    "#     .map(fmask)\n",
    "#     .median()\n",
    "#     .clip(sites)\n",
    "# )\n",
    "\n",
    "# start_date = '2013-01-01'\n",
    "# end_date = '2013-12-30'\n",
    "\n",
    "# L8_2013 = (\n",
    "#     ee.ImageCollection('LANDSAT/LC08/C02/T1_L2')\n",
    "#     .filterBounds(sites)\n",
    "#     .filterMetadata('CLOUD_COVER', 'less_than', 5)\n",
    "#     .filterDate(start_date, end_date)\n",
    "#     .map(fmask)\n",
    "#     .median()\n",
    "#     .clip(sites)\n",
    "# )\n",
    "\n",
    "\n",
    "# start_date = '2012-01-01'\n",
    "# end_date = '2012-12-30'\n",
    "\n",
    "# L5_2012 = (\n",
    "#     ee.ImageCollection('LANDSAT/LT05/C02/T1_L2')\n",
    "#     .filterBounds(sites)\n",
    "#     .filterMetadata('CLOUD_COVER', 'less_than', 5)\n",
    "#     .filterDate(start_date, end_date)\n",
    "#     .map(fmask)\n",
    "#     .median()\n",
    "#     .clip(sites)\n",
    "# )\n",
    "\n",
    "# start_date = '2011-01-01'\n",
    "# end_date = '2011-12-30'\n",
    "\n",
    "# L5_2011 = (\n",
    "#     ee.ImageCollection('LANDSAT/LT05/C02/T1_L2')\n",
    "#     .filterBounds(sites)\n",
    "#     .filterMetadata('CLOUD_COVER', 'less_than', 5)\n",
    "#     .filterDate(start_date, end_date)\n",
    "#     .map(fmask)\n",
    "#     .median()\n",
    "#     .clip(sites)\n",
    "# )\n",
    "\n",
    "# start_date = '2010-01-01'\n",
    "# end_date = '2010-12-30'\n",
    "\n",
    "# L5_2010 = (\n",
    "#     ee.ImageCollection('LANDSAT/LT05/C02/T1_L2')\n",
    "#     .filterBounds(sites)\n",
    "#     .filterMetadata('CLOUD_COVER', 'less_than', 5)\n",
    "#     .filterDate(start_date, end_date)\n",
    "#     .map(fmask)\n",
    "#     .median()\n",
    "#     .clip(sites)\n",
    "# )\n",
    "\n",
    "# start_date = '2009-01-01'\n",
    "# end_date = '2009-12-30'\n",
    "\n",
    "# L5_2009 = (\n",
    "#     ee.ImageCollection('LANDSAT/LT05/C02/T1_L2')\n",
    "#     .filterBounds(sites)\n",
    "#     .filterMetadata('CLOUD_COVER', 'less_than', 5)\n",
    "#     .filterDate(start_date, end_date)\n",
    "#     .map(fmask)\n",
    "#     .median()\n",
    "#     .clip(sites)\n",
    "# )\n",
    "\n",
    "# start_date = '2008-01-01'\n",
    "# end_date = '2008-12-30'\n",
    "\n",
    "# L5_2008 = (\n",
    "#     ee.ImageCollection('LANDSAT/LT05/C02/T1_L2')\n",
    "#     .filterBounds(sites)\n",
    "#     .filterMetadata('CLOUD_COVER', 'less_than', 5)\n",
    "#     .filterDate(start_date, end_date)\n",
    "#     .map(fmask)\n",
    "#     .median()\n",
    "#     .clip(sites)\n",
    "# )\n",
    "\n",
    "# start_date = '2007-01-01'\n",
    "# end_date = '2007-12-30'\n",
    "\n",
    "# L5_2007 = (\n",
    "#     ee.ImageCollection('LANDSAT/LT05/C02/T1_L2')\n",
    "#     .filterBounds(sites)\n",
    "#     .filterMetadata('CLOUD_COVER', 'less_than', 5)\n",
    "#     .filterDate(start_date, end_date)\n",
    "#     .map(fmask)\n",
    "#     .median()\n",
    "#     .clip(sites)\n",
    "# )\n",
    "\n",
    "# start_date = '2006-01-01'\n",
    "# end_date = '2006-12-30'\n",
    "\n",
    "# L5_2006 = (\n",
    "#     ee.ImageCollection('LANDSAT/LT05/C02/T1_L2')\n",
    "#     .filterBounds(sites)\n",
    "#     .filterMetadata('CLOUD_COVER', 'less_than', 5)\n",
    "#     .filterDate(start_date, end_date)\n",
    "#     .map(fmask)\n",
    "#     .median()\n",
    "#     .clip(sites)\n",
    "# )\n",
    "\n",
    "# start_date = '2005-01-01'\n",
    "# end_date = '2005-12-30'\n",
    "\n",
    "# L5_2005 = (\n",
    "#     ee.ImageCollection('LANDSAT/LT05/C02/T1_L2')\n",
    "#     .filterBounds(sites)\n",
    "#     .filterMetadata('CLOUD_COVER', 'less_than', 5)\n",
    "#     .filterDate(start_date, end_date)\n",
    "#     .map(fmask)\n",
    "#     .median()\n",
    "#     .clip(sites)\n",
    "# )\n",
    "\n",
    "# start_date = '2004-01-01'\n",
    "# end_date = '2004-12-30'\n",
    "\n",
    "# L5_2004 = (\n",
    "#     ee.ImageCollection('LANDSAT/LT05/C02/T1_L2')\n",
    "#     .filterBounds(sites)\n",
    "#     .filterMetadata('CLOUD_COVER', 'less_than', 5)\n",
    "#     .filterDate(start_date, end_date)\n",
    "#     .map(fmask)\n",
    "#     .median()\n",
    "#     .clip(sites)\n",
    "# )"
   ]
  },
  {
   "cell_type": "code",
   "execution_count": 18,
   "id": "92aed74a-b45d-42be-b167-28c8c6b65985",
   "metadata": {},
   "outputs": [],
   "source": [
    "Map = geemap.Map(toolbar_ctrl=True, layer_ctrl=True, add_google_map = False)\n",
    "addL8(Map, L8_2022, 0, 0.01, '2022')\n",
    "addL8(Map, L8_2021, 0, 0.01, '2021')"
   ]
  },
  {
   "cell_type": "code",
   "execution_count": 19,
   "id": "8a38b96e-bd93-4b46-89cd-a46e1075761c",
   "metadata": {
    "tags": []
   },
   "outputs": [
    {
     "data": {
      "application/vnd.jupyter.widget-view+json": {
       "model_id": "4c6310c1585a4477a92db968535092b8",
       "version_major": 2,
       "version_minor": 0
      },
      "text/plain": [
       "Map(center=[20, 0], controls=(WidgetControl(options=['position', 'transparent_bg'], widget=HBox(children=(Togg…"
      ]
     },
     "metadata": {},
     "output_type": "display_data"
    }
   ],
   "source": [
    "Map"
   ]
  },
  {
   "cell_type": "code",
   "execution_count": 8,
   "id": "59a96cdf-9253-4a53-90a2-2c588d719fb9",
   "metadata": {
    "tags": []
   },
   "outputs": [],
   "source": [
    "task_l8_22 = export_l8_to_cloud_storage(\n",
    "    image=L8_2022,\n",
    "    description='L8_22',\n",
    "    file_name_prefix='L8_22',\n",
    "    crs='EPSG:4326',\n",
    "    scale=30,\n",
    "    region=sites.geometry(),\n",
    "    file_format='GeoTIFF',\n",
    "    bucket='cog-bucket',\n",
    "    max_pixels=1e13,\n",
    "    skip_empty_tiles=True,\n",
    "    format_options={'cloudOptimized': True}\n",
    ")"
   ]
  },
  {
   "cell_type": "code",
   "execution_count": 16,
   "id": "009c6618-caee-4ec4-ab24-4576d582e858",
   "metadata": {
    "tags": []
   },
   "outputs": [
    {
     "data": {
      "text/plain": [
       "{'state': 'COMPLETED',\n",
       " 'description': 'L8_22',\n",
       " 'creation_timestamp_ms': 1684391681950,\n",
       " 'update_timestamp_ms': 1684392168602,\n",
       " 'start_timestamp_ms': 1684391691415,\n",
       " 'task_type': 'EXPORT_IMAGE',\n",
       " 'destination_uris': ['https://console.developers.google.com/storage/browser/cog-bucket/'],\n",
       " 'attempt': 1,\n",
       " 'batch_eecu_usage_seconds': 1231.8175048828125,\n",
       " 'id': 'K2JR5ABNMGIFTZ5PINDE6PQC',\n",
       " 'name': 'projects/earthengine-legacy/operations/K2JR5ABNMGIFTZ5PINDE6PQC'}"
      ]
     },
     "execution_count": 16,
     "metadata": {},
     "output_type": "execute_result"
    }
   ],
   "source": [
    "task_l8_22.status()"
   ]
  },
  {
   "cell_type": "code",
   "execution_count": 20,
   "id": "0894b435-0848-496e-8241-49d7127e908a",
   "metadata": {
    "tags": []
   },
   "outputs": [],
   "source": [
    "task_l8_21 = export_l8_to_cloud_storage(\n",
    "    image=L8_2021,\n",
    "    description='L8_21',\n",
    "    file_name_prefix='L8_21',\n",
    "    crs='EPSG:4326',\n",
    "    scale=30,\n",
    "    region=sites.geometry(),\n",
    "    file_format='GeoTIFF',\n",
    "    bucket='cog-bucket',\n",
    "    max_pixels=1e13,\n",
    "    skip_empty_tiles=True,\n",
    "    format_options={'cloudOptimized': True}\n",
    ")"
   ]
  },
  {
   "cell_type": "code",
   "execution_count": 21,
   "id": "eb210fc4-64c2-42cd-8bed-02a272efbb4b",
   "metadata": {
    "tags": []
   },
   "outputs": [
    {
     "data": {
      "text/plain": [
       "{'state': 'READY',\n",
       " 'description': 'L8_21',\n",
       " 'creation_timestamp_ms': 1684392459724,\n",
       " 'update_timestamp_ms': 1684392459724,\n",
       " 'start_timestamp_ms': 0,\n",
       " 'task_type': 'EXPORT_IMAGE',\n",
       " 'id': 'OJWAFFOI6V6S3V6DPPCIGXRX',\n",
       " 'name': 'projects/earthengine-legacy/operations/OJWAFFOI6V6S3V6DPPCIGXRX'}"
      ]
     },
     "execution_count": 21,
     "metadata": {},
     "output_type": "execute_result"
    }
   ],
   "source": [
    "task_l8_21.status()"
   ]
  },
  {
   "cell_type": "code",
   "execution_count": null,
   "id": "ccb5c113-d44d-4f85-985a-2c2459dfe316",
   "metadata": {},
   "outputs": [],
   "source": []
  }
 ],
 "metadata": {
  "kernelspec": {
   "display_name": "Python 3 (ipykernel)",
   "language": "python",
   "name": "python3"
  },
  "language_info": {
   "codemirror_mode": {
    "name": "ipython",
    "version": 3
   },
   "file_extension": ".py",
   "mimetype": "text/x-python",
   "name": "python",
   "nbconvert_exporter": "python",
   "pygments_lexer": "ipython3",
   "version": "3.9.15"
  }
 },
 "nbformat": 4,
 "nbformat_minor": 5
}
