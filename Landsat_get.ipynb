{
 "cells": [
  {
   "cell_type": "raw",
   "id": "74ae086b-eacd-4104-90cf-58dc1421f8fb",
   "metadata": {},
   "source": [
    "---\n",
    "title: Landsat SAV\n",
    "author: Stanley Mastrantonis \n",
    "format:\n",
    "  html:\n",
    "    toc: true\n",
    "    code-fold: true\n",
    "    self-contained: true\n",
    "    theme: paper\n",
    "---"
   ]
  },
  {
   "cell_type": "code",
   "execution_count": 1,
   "id": "dbd88dbb-c671-4f36-939b-8bc9cb1ed83c",
   "metadata": {
    "tags": []
   },
   "outputs": [],
   "source": [
    "import numpy as np, pandas as pd, geopandas as gpd, sklearn.metrics as metrics\n",
    "import geemap, ee , rasterio, sankee, warnings, pickle, os, glob, subprocess, json, fiona\n",
    "from matplotlib.lines import Line2D\n",
    "from rasterio import features\n",
    "from geopandas import GeoDataFrame\n",
    "from mpl_toolkits.axes_grid1.inset_locator import inset_axes\n",
    "from matplotlib.colors import ListedColormap, LinearSegmentedColormap\n",
    "from rasterio.mask import mask\n",
    "from osgeo import gdal, osr, gdalconst\n",
    "import numpy.ma as ma\n",
    "import rasterio, pickle\n",
    "import matplotlib as mpl\n",
    "import matplotlib.pyplot as plt, plotly.express as px\n",
    "from sklearn import ensemble\n",
    "from sklearn.cluster import DBSCAN, AgglomerativeClustering\n",
    "from matplotlib_scalebar.scalebar import ScaleBar\n",
    "from scipy import stats\n",
    "import seaborn as sns\n",
    "import statsmodels\n",
    "import glob\n",
    "from glob import glob\n",
    "import rasterio.plot as rplot\n",
    "from scipy.cluster.hierarchy import dendrogram, linkage\n",
    "from shapely.geometry import Polygon, Point, box\n",
    "from rasterio.plot import show\n",
    "import rioxarray as rxr\n",
    "from rio_cogeo.profiles import cog_profiles\n",
    "from rasterio.merge import merge\n",
    "from rasterstats import zonal_stats\n",
    "from geocube.api.core import make_geocube\n",
    "from typing import List\n",
    "from typing import Union\n",
    "warnings.filterwarnings('ignore')"
   ]
  },
  {
   "cell_type": "code",
   "execution_count": 2,
   "id": "510baf20-f010-48aa-8903-fd4c026043be",
   "metadata": {
    "tags": []
   },
   "outputs": [],
   "source": [
    "from functions import *"
   ]
  },
  {
   "cell_type": "code",
   "execution_count": 5,
   "id": "7e71272d-6a9f-4791-a06b-ae1d014ace43",
   "metadata": {
    "tags": []
   },
   "outputs": [
    {
     "data": {
      "text/html": [
       "<p>To authorize access needed by Earth Engine, open the following\n",
       "        URL in a web browser and follow the instructions:</p>\n",
       "        <p><a href=https://code.earthengine.google.com/client-auth?scopes=https%3A//www.googleapis.com/auth/earthengine%20https%3A//www.googleapis.com/auth/devstorage.full_control&request_id=mbPKyDISveaWQZ2NS1PAs_ECaiuXnSKbsctkgnYTSmg&tc=uFESSDzFMoBaqD92ty-0pCWR4Fw13DysD5LcdAItcWM&cc=_19grWtgIRqTPBtRfleDNDluL9XwURxUpKu0T-udc2Q>https://code.earthengine.google.com/client-auth?scopes=https%3A//www.googleapis.com/auth/earthengine%20https%3A//www.googleapis.com/auth/devstorage.full_control&request_id=mbPKyDISveaWQZ2NS1PAs_ECaiuXnSKbsctkgnYTSmg&tc=uFESSDzFMoBaqD92ty-0pCWR4Fw13DysD5LcdAItcWM&cc=_19grWtgIRqTPBtRfleDNDluL9XwURxUpKu0T-udc2Q</a></p>\n",
       "        <p>The authorization workflow will generate a code, which you should paste in the box below.</p>\n",
       "        "
      ],
      "text/plain": [
       "<IPython.core.display.HTML object>"
      ]
     },
     "metadata": {},
     "output_type": "display_data"
    },
    {
     "name": "stdin",
     "output_type": "stream",
     "text": [
      "Enter verification code:  4/1AbUR2VNC3_tMsSO1YamPAjtQXPy9UA-GZ8XCRHba8OR-SNuuckxcLS50nzY\n"
     ]
    },
    {
     "name": "stdout",
     "output_type": "stream",
     "text": [
      "\n",
      "Successfully saved authorization token.\n"
     ]
    }
   ],
   "source": [
    "#ee.Authenticate()"
   ]
  },
  {
   "cell_type": "code",
   "execution_count": 3,
   "id": "e93e367c-63cb-4ab5-b183-7a5674903f94",
   "metadata": {
    "tags": []
   },
   "outputs": [],
   "source": [
    "ee.Initialize()"
   ]
  },
  {
   "cell_type": "code",
   "execution_count": 4,
   "id": "4f00196a-1cf3-4dc1-987c-99480263a7cc",
   "metadata": {},
   "outputs": [],
   "source": [
    "## shp read in"
   ]
  },
  {
   "cell_type": "code",
   "execution_count": 5,
   "id": "17e2a003-6513-4f46-9166-7a8515e1a8e3",
   "metadata": {
    "tags": []
   },
   "outputs": [],
   "source": [
    "hab = geemap.shp_to_ee(os.path.join(os.getcwd(),\n",
    "          'Data\\\\BOSS\\\\Cleaned\\\\BOSS_clip_cluster.shp'))\n",
    "\n",
    "midwest = geemap.shp_to_ee(os.path.join(os.getcwd(),\n",
    "          'Data\\\\ICoAST sites\\\\WGS84\\\\ICOAST_midwest.shp'))\n",
    "\n",
    "don = geemap.shp_to_ee(os.path.join(os.getcwd(),\n",
    "          'Data\\\\ICoAST sites\\\\Sites\\\\Dongara.shp'))\n",
    "\n",
    "sites = midwest.merge(don)"
   ]
  },
  {
   "cell_type": "code",
   "execution_count": null,
   "id": "724212d2-80dc-4599-86e1-a981d82341c9",
   "metadata": {},
   "outputs": [],
   "source": [
    "### Landsat 8"
   ]
  },
  {
   "cell_type": "code",
   "execution_count": 5,
   "id": "eee64f02-9e68-4b8e-a506-f190960b143e",
   "metadata": {
    "tags": []
   },
   "outputs": [],
   "source": [
    "start_date = '2022-01-01'\n",
    "end_date = '2022-12-30'\n",
    "L8_2022 = get_LS8_image(sites = sites, start_date = start_date, end_date = end_date, cloud = 50)\n",
    "\n",
    "start_date = '2021-01-01'\n",
    "end_date = '2021-12-30'\n",
    "L8_2021 = get_LS8_image(sites = sites, start_date = start_date, end_date = end_date, cloud = 50)\n",
    "\n",
    "start_date = '2020-01-01'\n",
    "end_date = '2020-12-30'\n",
    "\n",
    "L8_2020 = get_LS8_image(sites = sites, start_date = start_date, end_date = end_date, cloud = 50)\n",
    "\n",
    "start_date = '2019-01-01'\n",
    "end_date = '2019-12-30'\n",
    "\n",
    "L8_2019 = get_LS8_image(sites = sites, start_date = start_date, end_date = end_date, cloud = 50)\n",
    "\n",
    "start_date = '2018-01-01'\n",
    "end_date = '2018-12-30'\n",
    "\n",
    "L8_2018 = get_LS8_image(sites = sites, start_date = start_date, end_date = end_date, cloud = 50)\n",
    "\n",
    "start_date = '2017-01-01'\n",
    "end_date = '2017-12-30'\n",
    "\n",
    "L8_2017 = get_LS8_image(sites = sites, start_date = start_date, end_date = end_date, cloud = 50)\n",
    "\n",
    "start_date = '2016-01-01'\n",
    "end_date = '2016-12-30'\n",
    "\n",
    "L8_2016 = get_LS8_image(sites = sites, start_date = start_date, end_date = end_date, cloud = 50)\n",
    "\n",
    "start_date = '2015-01-01'\n",
    "end_date = '2015-12-30'\n",
    "\n",
    "L8_2015 = get_LS8_image(sites = sites, start_date = start_date, end_date = end_date, cloud = 50)\n",
    "\n",
    "start_date = '2014-01-01'\n",
    "end_date = '2014-12-30'\n",
    "\n",
    "L8_2014 = get_LS8_image(sites = sites, start_date = start_date, end_date = end_date, cloud = 50)\n",
    "\n",
    "start_date = '2013-01-01'\n",
    "end_date = '2013-12-30'\n",
    "\n",
    "L8_2013 = get_LS8_image(sites = sites, start_date = start_date, end_date = end_date, cloud = 50)\n"
   ]
  },
  {
   "cell_type": "code",
   "execution_count": 6,
   "id": "92aed74a-b45d-42be-b167-28c8c6b65985",
   "metadata": {},
   "outputs": [
    {
     "data": {
      "application/vnd.jupyter.widget-view+json": {
       "model_id": "f8046bf534234957acf7f7ea33fda201",
       "version_major": 2,
       "version_minor": 0
      },
      "text/plain": [
       "Map(center=[20, 0], controls=(WidgetControl(options=['position', 'transparent_bg'], widget=HBox(children=(Togg…"
      ]
     },
     "metadata": {},
     "output_type": "display_data"
    }
   ],
   "source": [
    "Map = geemap.Map(toolbar_ctrl=True, layer_ctrl=True, add_google_map = False)\n",
    "addL8(Map, L8_2022, 0, 0.1, '2022')\n",
    "addL8(Map, L8_2021, 0, 0.1, '2021')\n",
    "addL8(Map, L8_2020, 0, 0.1, '2020')\n",
    "addL8(Map, L8_2019, 0, 0.1, '2019')\n",
    "addL8(Map, L8_2018, 0, 0.1, '2018')\n",
    "addL8(Map, L8_2017, 0, 0.1, '2017')\n",
    "addL8(Map, L8_2016, 0, 0.1, '2016')\n",
    "addL8(Map, L8_2015, 0, 0.1, '2015')\n",
    "addL8(Map, L8_2014, 0, 0.1, '2014')\n",
    "addL8(Map, L8_2013, 0, 0.1, '2013')\n",
    "Map"
   ]
  },
  {
   "cell_type": "code",
   "execution_count": 7,
   "id": "2a73eed1-54b7-4406-9357-582aeb9206fb",
   "metadata": {
    "tags": []
   },
   "outputs": [],
   "source": [
    "task_l8_22 = export_l8_to_cloud_storage(\n",
    "    image=L8_2022,\n",
    "    description='L8_22',\n",
    "    file_name_prefix='L8_22',\n",
    "    crs='EPSG:4326',\n",
    "    scale=30,\n",
    "    region=sites.geometry(),\n",
    "    file_format='GeoTIFF',\n",
    "    bucket='cog-bucket',\n",
    "    max_pixels=1e13,\n",
    "    skip_empty_tiles=True,\n",
    "    format_options={'cloudOptimized': True}\n",
    ")"
   ]
  },
  {
   "cell_type": "code",
   "execution_count": 27,
   "id": "009c6618-caee-4ec4-ab24-4576d582e858",
   "metadata": {
    "tags": []
   },
   "outputs": [
    {
     "data": {
      "text/plain": [
       "{'state': 'COMPLETED',\n",
       " 'description': 'L8_22',\n",
       " 'creation_timestamp_ms': 1684721828301,\n",
       " 'update_timestamp_ms': 1684722198350,\n",
       " 'start_timestamp_ms': 1684721833486,\n",
       " 'task_type': 'EXPORT_IMAGE',\n",
       " 'destination_uris': ['https://console.developers.google.com/storage/browser/cog-bucket/'],\n",
       " 'attempt': 1,\n",
       " 'batch_eecu_usage_seconds': 1805.83642578125,\n",
       " 'id': 'X3CTHLFH4YFXRTFC5VIN5XZK',\n",
       " 'name': 'projects/earthengine-legacy/operations/X3CTHLFH4YFXRTFC5VIN5XZK'}"
      ]
     },
     "execution_count": 27,
     "metadata": {},
     "output_type": "execute_result"
    }
   ],
   "source": [
    "task_l8_22.status()"
   ]
  },
  {
   "cell_type": "code",
   "execution_count": 8,
   "id": "0894b435-0848-496e-8241-49d7127e908a",
   "metadata": {
    "tags": []
   },
   "outputs": [],
   "source": [
    "task_l8_21 = export_l8_to_cloud_storage(\n",
    "    image=L8_2021,\n",
    "    description='L8_21',\n",
    "    file_name_prefix='L8_21',\n",
    "    crs='EPSG:4326',\n",
    "    scale=30,\n",
    "    region=sites.geometry(),\n",
    "    file_format='GeoTIFF',\n",
    "    bucket='cog-bucket',\n",
    "    max_pixels=1e13,\n",
    "    skip_empty_tiles=True,\n",
    "    format_options={'cloudOptimized': True}\n",
    ")"
   ]
  },
  {
   "cell_type": "code",
   "execution_count": 22,
   "id": "eb210fc4-64c2-42cd-8bed-02a272efbb4b",
   "metadata": {
    "tags": []
   },
   "outputs": [
    {
     "data": {
      "text/plain": [
       "{'state': 'RUNNING',\n",
       " 'description': 'L8_21',\n",
       " 'creation_timestamp_ms': 1684478190153,\n",
       " 'update_timestamp_ms': 1684478201747,\n",
       " 'start_timestamp_ms': 1684478198536,\n",
       " 'task_type': 'EXPORT_IMAGE',\n",
       " 'attempt': 1,\n",
       " 'id': '7DMSWQPLXK56MPVJZGOOCHMQ',\n",
       " 'name': 'projects/earthengine-legacy/operations/7DMSWQPLXK56MPVJZGOOCHMQ'}"
      ]
     },
     "execution_count": 22,
     "metadata": {},
     "output_type": "execute_result"
    }
   ],
   "source": [
    "task_l8_21.status()"
   ]
  },
  {
   "cell_type": "code",
   "execution_count": 9,
   "id": "1ae09f25-c3c7-4bd3-ac22-e6bee2cd5001",
   "metadata": {
    "tags": []
   },
   "outputs": [],
   "source": [
    "task_l8_20 = export_l8_to_cloud_storage(\n",
    "    image=L8_2020,\n",
    "    description='L8_20',\n",
    "    file_name_prefix='L8_20',\n",
    "    crs='EPSG:4326',\n",
    "    scale=30,\n",
    "    region=sites.geometry(),\n",
    "    file_format='GeoTIFF',\n",
    "    bucket='cog-bucket',\n",
    "    max_pixels=1e13,\n",
    "    skip_empty_tiles=True,\n",
    "    format_options={'cloudOptimized': True}\n",
    ")"
   ]
  },
  {
   "cell_type": "code",
   "execution_count": 18,
   "id": "4705bd27-1aca-4695-a4e1-36b99b987617",
   "metadata": {
    "tags": []
   },
   "outputs": [
    {
     "data": {
      "text/plain": [
       "{'state': 'RUNNING',\n",
       " 'description': 'L8_20',\n",
       " 'creation_timestamp_ms': 1684464850240,\n",
       " 'update_timestamp_ms': 1684464933707,\n",
       " 'start_timestamp_ms': 1684464854789,\n",
       " 'task_type': 'EXPORT_IMAGE',\n",
       " 'attempt': 1,\n",
       " 'id': '5OWBOH5TKFJTCUISP4MVIJSV',\n",
       " 'name': 'projects/earthengine-legacy/operations/5OWBOH5TKFJTCUISP4MVIJSV'}"
      ]
     },
     "execution_count": 18,
     "metadata": {},
     "output_type": "execute_result"
    }
   ],
   "source": [
    "task_l8_20.status()"
   ]
  },
  {
   "cell_type": "code",
   "execution_count": 10,
   "id": "84946214-6c1c-49a9-ad3c-02e2668069c0",
   "metadata": {
    "tags": []
   },
   "outputs": [],
   "source": [
    "task_l8_19 = export_l8_to_cloud_storage(\n",
    "    image=L8_2019,\n",
    "    description='L8_19',\n",
    "    file_name_prefix='L8_19',\n",
    "    crs='EPSG:4326',\n",
    "    scale=30,\n",
    "    region=sites.geometry(),\n",
    "    file_format='GeoTIFF',\n",
    "    bucket='cog-bucket',\n",
    "    max_pixels=1e13,\n",
    "    skip_empty_tiles=True,\n",
    "    format_options={'cloudOptimized': True}\n",
    ")"
   ]
  },
  {
   "cell_type": "code",
   "execution_count": 24,
   "id": "a147da83-cf74-49ff-8aa3-6419020f9deb",
   "metadata": {
    "tags": []
   },
   "outputs": [
    {
     "data": {
      "text/plain": [
       "{'state': 'RUNNING',\n",
       " 'description': 'L8_19',\n",
       " 'creation_timestamp_ms': 1684721834432,\n",
       " 'update_timestamp_ms': 1684722082775,\n",
       " 'start_timestamp_ms': 1684721841696,\n",
       " 'task_type': 'EXPORT_IMAGE',\n",
       " 'attempt': 1,\n",
       " 'id': 'PZ2PPPLA66HRX2XQNZJPACF4',\n",
       " 'name': 'projects/earthengine-legacy/operations/PZ2PPPLA66HRX2XQNZJPACF4'}"
      ]
     },
     "execution_count": 24,
     "metadata": {},
     "output_type": "execute_result"
    }
   ],
   "source": [
    "task_l8_19.status()"
   ]
  },
  {
   "cell_type": "code",
   "execution_count": 11,
   "id": "4481f5b5-59c4-49ff-a1dd-9453c2e5b526",
   "metadata": {
    "tags": []
   },
   "outputs": [],
   "source": [
    "task_l8_18 = export_l8_to_cloud_storage(\n",
    "    image=L8_2018,\n",
    "    description='L8_18',\n",
    "    file_name_prefix='L8_18',\n",
    "    crs='EPSG:4326',\n",
    "    scale=30,\n",
    "    region=sites.geometry(),\n",
    "    file_format='GeoTIFF',\n",
    "    bucket='cog-bucket',\n",
    "    max_pixels=1e13,\n",
    "    skip_empty_tiles=True,\n",
    "    format_options={'cloudOptimized': True}\n",
    ")"
   ]
  },
  {
   "cell_type": "code",
   "execution_count": 22,
   "id": "6e9c7ebd-7d1f-4013-a867-f9b897a2427a",
   "metadata": {
    "tags": []
   },
   "outputs": [
    {
     "data": {
      "text/plain": [
       "{'state': 'RUNNING',\n",
       " 'description': 'L8_18',\n",
       " 'creation_timestamp_ms': 1684721836400,\n",
       " 'update_timestamp_ms': 1684721962528,\n",
       " 'start_timestamp_ms': 1684721841694,\n",
       " 'task_type': 'EXPORT_IMAGE',\n",
       " 'attempt': 1,\n",
       " 'id': 'D3JDCEEADXNBXAYZRGHLNGAL',\n",
       " 'name': 'projects/earthengine-legacy/operations/D3JDCEEADXNBXAYZRGHLNGAL'}"
      ]
     },
     "execution_count": 22,
     "metadata": {},
     "output_type": "execute_result"
    }
   ],
   "source": [
    "task_l8_18.status()"
   ]
  },
  {
   "cell_type": "code",
   "execution_count": 12,
   "id": "2c923e55-94f2-46e7-847e-57ef42d1de6c",
   "metadata": {
    "tags": []
   },
   "outputs": [],
   "source": [
    "task_l8_17 = export_l8_to_cloud_storage(\n",
    "    image=L8_2017,\n",
    "    description='L8_17',\n",
    "    file_name_prefix='L8_17',\n",
    "    crs='EPSG:4326',\n",
    "    scale=30,\n",
    "    region=sites.geometry(),\n",
    "    file_format='GeoTIFF',\n",
    "    bucket='cog-bucket',\n",
    "    max_pixels=1e13,\n",
    "    skip_empty_tiles=True,\n",
    "    format_options={'cloudOptimized': True}\n",
    ")"
   ]
  },
  {
   "cell_type": "code",
   "execution_count": 21,
   "id": "465e4ffb-a500-412d-9df1-49e2383bffe2",
   "metadata": {
    "tags": []
   },
   "outputs": [
    {
     "data": {
      "text/plain": [
       "{'state': 'RUNNING',\n",
       " 'description': 'L8_17',\n",
       " 'creation_timestamp_ms': 1684721838344,\n",
       " 'update_timestamp_ms': 1684721967611,\n",
       " 'start_timestamp_ms': 1684721846189,\n",
       " 'task_type': 'EXPORT_IMAGE',\n",
       " 'attempt': 1,\n",
       " 'id': 'QPKGQM5LD5UVYC6EY7WZ6SI5',\n",
       " 'name': 'projects/earthengine-legacy/operations/QPKGQM5LD5UVYC6EY7WZ6SI5'}"
      ]
     },
     "execution_count": 21,
     "metadata": {},
     "output_type": "execute_result"
    }
   ],
   "source": [
    "task_l8_17.status()"
   ]
  },
  {
   "cell_type": "code",
   "execution_count": 13,
   "id": "afb73c59-caf7-4d7b-beab-c734edff1e43",
   "metadata": {
    "tags": []
   },
   "outputs": [],
   "source": [
    "task_l8_16 = export_l8_to_cloud_storage(\n",
    "    image=L8_2016,\n",
    "    description='L8_16',\n",
    "    file_name_prefix='L8_16',\n",
    "    crs='EPSG:4326',\n",
    "    scale=30,\n",
    "    region=sites.geometry(),\n",
    "    file_format='GeoTIFF',\n",
    "    bucket='cog-bucket',\n",
    "    max_pixels=1e13,\n",
    "    skip_empty_tiles=True,\n",
    "    format_options={'cloudOptimized': True}\n",
    ")"
   ]
  },
  {
   "cell_type": "code",
   "execution_count": 20,
   "id": "8985a662-fdea-4a77-8fd6-3bc63af419b3",
   "metadata": {
    "tags": []
   },
   "outputs": [
    {
     "data": {
      "text/plain": [
       "{'state': 'RUNNING',\n",
       " 'description': 'L8_16',\n",
       " 'creation_timestamp_ms': 1684721840304,\n",
       " 'update_timestamp_ms': 1684721966856,\n",
       " 'start_timestamp_ms': 1684721846192,\n",
       " 'task_type': 'EXPORT_IMAGE',\n",
       " 'attempt': 1,\n",
       " 'id': 'DTCNDCMATAWZTEL7SUYLDKHF',\n",
       " 'name': 'projects/earthengine-legacy/operations/DTCNDCMATAWZTEL7SUYLDKHF'}"
      ]
     },
     "execution_count": 20,
     "metadata": {},
     "output_type": "execute_result"
    }
   ],
   "source": [
    "task_l8_16.status()"
   ]
  },
  {
   "cell_type": "code",
   "execution_count": 14,
   "id": "96941453-3289-4cb2-9517-5c36a9e7dd5c",
   "metadata": {
    "tags": []
   },
   "outputs": [],
   "source": [
    "task_l8_15 = export_l8_to_cloud_storage(\n",
    "    image=L8_2015,\n",
    "    description='L8_15',\n",
    "    file_name_prefix='L8_15',\n",
    "    crs='EPSG:4326',\n",
    "    scale=30,\n",
    "    region=sites.geometry(),\n",
    "    file_format='GeoTIFF',\n",
    "    bucket='cog-bucket',\n",
    "    max_pixels=1e13,\n",
    "    skip_empty_tiles=True,\n",
    "    format_options={'cloudOptimized': True}\n",
    ")"
   ]
  },
  {
   "cell_type": "code",
   "execution_count": 32,
   "id": "8032a6e7-1711-4b17-8d1d-978b38d1b42c",
   "metadata": {
    "tags": []
   },
   "outputs": [
    {
     "data": {
      "text/plain": [
       "{'state': 'COMPLETED',\n",
       " 'description': 'L8_15',\n",
       " 'creation_timestamp_ms': 1684721842335,\n",
       " 'update_timestamp_ms': 1684722329817,\n",
       " 'start_timestamp_ms': 1684721855217,\n",
       " 'task_type': 'EXPORT_IMAGE',\n",
       " 'destination_uris': ['https://console.developers.google.com/storage/browser/cog-bucket/'],\n",
       " 'attempt': 1,\n",
       " 'batch_eecu_usage_seconds': 1933.1429443359375,\n",
       " 'id': 'LR7SP6C3U4QUH2OO22SRNK7A',\n",
       " 'name': 'projects/earthengine-legacy/operations/LR7SP6C3U4QUH2OO22SRNK7A'}"
      ]
     },
     "execution_count": 32,
     "metadata": {},
     "output_type": "execute_result"
    }
   ],
   "source": [
    "task_l8_15.status()"
   ]
  },
  {
   "cell_type": "code",
   "execution_count": 15,
   "id": "a203ea20-a36a-4a4c-9e79-f1f28a122ba1",
   "metadata": {
    "tags": []
   },
   "outputs": [],
   "source": [
    "task_l8_14 = export_l8_to_cloud_storage(\n",
    "    image=L8_2014,\n",
    "    description='L8_14',\n",
    "    file_name_prefix='L8_14',\n",
    "    crs='EPSG:4326',\n",
    "    scale=30,\n",
    "    region=sites.geometry(),\n",
    "    file_format='GeoTIFF',\n",
    "    bucket='cog-bucket',\n",
    "    max_pixels=1e13,\n",
    "    skip_empty_tiles=True,\n",
    "    format_options={'cloudOptimized': True}\n",
    ")"
   ]
  },
  {
   "cell_type": "code",
   "execution_count": 33,
   "id": "92505a88-d58e-4c2f-9a1c-fc978c578253",
   "metadata": {
    "tags": []
   },
   "outputs": [
    {
     "data": {
      "text/plain": [
       "{'state': 'COMPLETED',\n",
       " 'description': 'L8_14',\n",
       " 'creation_timestamp_ms': 1684721844335,\n",
       " 'update_timestamp_ms': 1684722750672,\n",
       " 'start_timestamp_ms': 1684722235858,\n",
       " 'task_type': 'EXPORT_IMAGE',\n",
       " 'destination_uris': ['https://console.developers.google.com/storage/browser/cog-bucket/'],\n",
       " 'attempt': 1,\n",
       " 'batch_eecu_usage_seconds': 3861.297119140625,\n",
       " 'id': 'L243VAI7KFYLCSP6QYQJNWOP',\n",
       " 'name': 'projects/earthengine-legacy/operations/L243VAI7KFYLCSP6QYQJNWOP'}"
      ]
     },
     "execution_count": 33,
     "metadata": {},
     "output_type": "execute_result"
    }
   ],
   "source": [
    "task_l8_14.status()"
   ]
  },
  {
   "cell_type": "code",
   "execution_count": null,
   "id": "ccea84c7-8688-4134-83d0-3beaa54ce4f6",
   "metadata": {},
   "outputs": [],
   "source": [
    "### Landsat 5"
   ]
  },
  {
   "cell_type": "code",
   "execution_count": 8,
   "id": "ccb5c113-d44d-4f85-985a-2c2459dfe316",
   "metadata": {
    "tags": []
   },
   "outputs": [],
   "source": [
    "# start_date = '2012-01-01'\n",
    "# end_date = '2012-12-30'\n",
    "\n",
    "# L5_2012 = get_LS5_image(sites = sites, start_date = start_date, end_date = end_date, cloud = 15)\n",
    "\n",
    "start_date = '2011-01-01'\n",
    "end_date = '2011-12-30'\n",
    "\n",
    "L5_2011 = get_LS5_image(sites = sites, start_date = start_date, end_date = end_date, cloud = 10)\n",
    "\n",
    "start_date = '2010-01-01'\n",
    "end_date = '2010-12-30'\n",
    "\n",
    "L5_2010 = get_LS5_image(sites = sites, start_date = start_date, end_date = end_date, cloud = 10)\n",
    "\n",
    "start_date = '2009-01-01'\n",
    "end_date = '2009-12-30'\n",
    "\n",
    "L5_2009 = get_LS5_image(sites = sites, start_date = start_date, end_date = end_date, cloud = 10)\n",
    "\n",
    "start_date = '2008-01-01'\n",
    "end_date = '2008-12-30'\n",
    "\n",
    "L5_2008 = get_LS5_image(sites = sites, start_date = start_date, end_date = end_date, cloud = 10)\n",
    "\n",
    "start_date = '2007-01-01'\n",
    "end_date = '2007-12-30'\n",
    "\n",
    "L5_2007 = get_LS5_image(sites = sites, start_date = start_date, end_date = end_date, cloud = 10)\n",
    "\n",
    "start_date = '2006-01-01'\n",
    "end_date = '2006-12-30'\n",
    "\n",
    "L5_2006 = get_LS5_image(sites = sites, start_date = start_date, end_date = end_date, cloud = 10)\n",
    "\n",
    "start_date = '2005-01-01'\n",
    "end_date = '2005-12-30'\n",
    "\n",
    "L5_2005 = get_LS5_image(sites = sites, start_date = start_date, end_date = end_date, cloud = 10)\n",
    "\n",
    "start_date = '2004-01-01'\n",
    "end_date = '2004-12-30'\n",
    "\n",
    "L5_2004 = get_LS5_image(sites = sites, start_date = start_date, end_date = end_date, cloud = 10)\n",
    "\n",
    "start_date = '2003-01-01'\n",
    "end_date = '2003-12-30'\n",
    "\n",
    "L5_2003 = get_LS5_image(sites = sites, start_date = start_date, end_date = end_date, cloud = 10)\n",
    "\n",
    "start_date = '2002-01-01'\n",
    "end_date = '2002-12-30'\n",
    "\n",
    "L5_2002 = get_LS5_image(sites = sites, start_date = start_date, end_date = end_date, cloud = 15)"
   ]
  },
  {
   "cell_type": "code",
   "execution_count": 9,
   "id": "b5d37977-d5f9-4651-9c9a-11251899ad72",
   "metadata": {
    "tags": []
   },
   "outputs": [
    {
     "data": {
      "application/vnd.jupyter.widget-view+json": {
       "model_id": "27afa35e15ac4ea98e70aebcecea511b",
       "version_major": 2,
       "version_minor": 0
      },
      "text/plain": [
       "Map(center=[20, 0], controls=(WidgetControl(options=['position', 'transparent_bg'], widget=HBox(children=(Togg…"
      ]
     },
     "metadata": {},
     "output_type": "display_data"
    }
   ],
   "source": [
    "Map = geemap.Map(toolbar_ctrl=True, layer_ctrl=True, add_google_map = False)\n",
    "#addL5(Map, L5_2012, 0, 0.01, '2012')\n",
    "addL5(Map, L5_2011, 0, 0.1, '2011')\n",
    "addL5(Map, L5_2010, 0, 0.1, '2010')\n",
    "addL5(Map, L5_2009, 0, 0.1, '2009')\n",
    "addL5(Map, L5_2008, 0, 0.1, '2008')\n",
    "addL5(Map, L5_2007, 0, 0.1, '2007')\n",
    "addL5(Map, L5_2006, 0, 0.1, '2006')\n",
    "addL5(Map, L5_2005, 0, 0.1, '2005')\n",
    "addL5(Map, L5_2004, 0, 0.1, '2004')\n",
    "addL5(Map, L5_2003, 0, 0.1, '2003')\n",
    "#addL5(Map, L5_2002, 0, 0.01, '2002')\n",
    "Map"
   ]
  },
  {
   "cell_type": "code",
   "execution_count": 10,
   "id": "2f6ac78e-86fe-4552-8506-7774c9d01355",
   "metadata": {
    "tags": []
   },
   "outputs": [],
   "source": [
    "task_l5_11 = export_l5_to_cloud_storage(\n",
    "    image=L5_2011,\n",
    "    description='L5_11',\n",
    "    file_name_prefix='L5_11',\n",
    "    crs='EPSG:4326',\n",
    "    scale=30,\n",
    "    region=sites.geometry(),\n",
    "    file_format='GeoTIFF',\n",
    "    bucket='cog-bucket',\n",
    "    max_pixels=1e13,\n",
    "    skip_empty_tiles=True,\n",
    "    format_options={'cloudOptimized': True}\n",
    ")"
   ]
  },
  {
   "cell_type": "code",
   "execution_count": 43,
   "id": "a59d2403-6515-48ef-846d-bf43638347c9",
   "metadata": {
    "tags": []
   },
   "outputs": [
    {
     "data": {
      "text/plain": [
       "{'state': 'RUNNING',\n",
       " 'description': 'L5_11',\n",
       " 'creation_timestamp_ms': 1684480167416,\n",
       " 'update_timestamp_ms': 1684480415715,\n",
       " 'start_timestamp_ms': 1684480175021,\n",
       " 'task_type': 'EXPORT_IMAGE',\n",
       " 'attempt': 1,\n",
       " 'id': 'BX5VUNOCYWMHX7H3ALMH77SQ',\n",
       " 'name': 'projects/earthengine-legacy/operations/BX5VUNOCYWMHX7H3ALMH77SQ'}"
      ]
     },
     "execution_count": 43,
     "metadata": {},
     "output_type": "execute_result"
    }
   ],
   "source": [
    "task_l5_11.status()"
   ]
  },
  {
   "cell_type": "code",
   "execution_count": 11,
   "id": "ea601664-fe6f-4cc5-9842-6e940ad13866",
   "metadata": {
    "tags": []
   },
   "outputs": [],
   "source": [
    "task_l5_10 = export_l5_to_cloud_storage(\n",
    "    image=L5_2010,\n",
    "    description='L5_10',\n",
    "    file_name_prefix='L5_10',\n",
    "    crs='EPSG:4326',\n",
    "    scale=30,\n",
    "    region=sites.geometry(),\n",
    "    file_format='GeoTIFF',\n",
    "    bucket='cog-bucket',\n",
    "    max_pixels=1e13,\n",
    "    skip_empty_tiles=True,\n",
    "    format_options={'cloudOptimized': True}\n",
    ")"
   ]
  },
  {
   "cell_type": "code",
   "execution_count": null,
   "id": "d386a7e4-a54f-4e57-b409-4256ff85c971",
   "metadata": {},
   "outputs": [],
   "source": [
    "task_l5_10.status()"
   ]
  },
  {
   "cell_type": "code",
   "execution_count": 12,
   "id": "ba7d1eb3-cf28-43df-a0b9-086e90832e74",
   "metadata": {
    "tags": []
   },
   "outputs": [],
   "source": [
    "task_l5_09 = export_l5_to_cloud_storage(\n",
    "    image=L5_2009,\n",
    "    description='L5_09',\n",
    "    file_name_prefix='L5_09',\n",
    "    crs='EPSG:4326',\n",
    "    scale=30,\n",
    "    region=sites.geometry(),\n",
    "    file_format='GeoTIFF',\n",
    "    bucket='cog-bucket',\n",
    "    max_pixels=1e13,\n",
    "    skip_empty_tiles=True,\n",
    "    format_options={'cloudOptimized': True}\n",
    ")"
   ]
  },
  {
   "cell_type": "code",
   "execution_count": 29,
   "id": "4923df25-0898-4ed5-9cda-10da1d4da259",
   "metadata": {
    "tags": []
   },
   "outputs": [
    {
     "data": {
      "text/plain": [
       "{'state': 'RUNNING',\n",
       " 'description': 'L5_09',\n",
       " 'creation_timestamp_ms': 1684468254227,\n",
       " 'update_timestamp_ms': 1684468499618,\n",
       " 'start_timestamp_ms': 1684468259256,\n",
       " 'task_type': 'EXPORT_IMAGE',\n",
       " 'attempt': 1,\n",
       " 'id': '37PBT3NPQBOGKMKHFVGQDPH4',\n",
       " 'name': 'projects/earthengine-legacy/operations/37PBT3NPQBOGKMKHFVGQDPH4'}"
      ]
     },
     "execution_count": 29,
     "metadata": {},
     "output_type": "execute_result"
    }
   ],
   "source": [
    "task_l5_09.status()"
   ]
  },
  {
   "cell_type": "code",
   "execution_count": 13,
   "id": "b1c1231f-0ac2-472f-9969-e0d83c49def2",
   "metadata": {
    "tags": []
   },
   "outputs": [],
   "source": [
    "task_l5_08 = export_l5_to_cloud_storage(\n",
    "    image=L5_2008,\n",
    "    description='L5_08',\n",
    "    file_name_prefix='L5_08',\n",
    "    crs='EPSG:4326',\n",
    "    scale=30,\n",
    "    region=sites.geometry(),\n",
    "    file_format='GeoTIFF',\n",
    "    bucket='cog-bucket',\n",
    "    max_pixels=1e13,\n",
    "    skip_empty_tiles=True,\n",
    "    format_options={'cloudOptimized': True}\n",
    ")"
   ]
  },
  {
   "cell_type": "code",
   "execution_count": 30,
   "id": "5567b6f1-f80e-487f-871a-47e931f5fbf0",
   "metadata": {
    "tags": []
   },
   "outputs": [
    {
     "data": {
      "text/plain": [
       "{'state': 'COMPLETED',\n",
       " 'description': 'L5_08',\n",
       " 'creation_timestamp_ms': 1684468256335,\n",
       " 'update_timestamp_ms': 1684468648264,\n",
       " 'start_timestamp_ms': 1684468263724,\n",
       " 'task_type': 'EXPORT_IMAGE',\n",
       " 'destination_uris': ['https://console.developers.google.com/storage/browser/cog-bucket/'],\n",
       " 'attempt': 1,\n",
       " 'batch_eecu_usage_seconds': 484.7016296386719,\n",
       " 'id': 'HQESFQJGR3U4W524VD32YYDK',\n",
       " 'name': 'projects/earthengine-legacy/operations/HQESFQJGR3U4W524VD32YYDK'}"
      ]
     },
     "execution_count": 30,
     "metadata": {},
     "output_type": "execute_result"
    }
   ],
   "source": [
    "task_l5_08.status()"
   ]
  },
  {
   "cell_type": "code",
   "execution_count": 14,
   "id": "c85fbd98-8f6e-409b-ab9a-9bf713730feb",
   "metadata": {
    "tags": []
   },
   "outputs": [],
   "source": [
    "task_l5_07 = export_l5_to_cloud_storage(\n",
    "    image=L5_2007,\n",
    "    description='L5_07',\n",
    "    file_name_prefix='L5_07',\n",
    "    crs='EPSG:4326',\n",
    "    scale=30,\n",
    "    region=sites.geometry(),\n",
    "    file_format='GeoTIFF',\n",
    "    bucket='cog-bucket',\n",
    "    max_pixels=1e13,\n",
    "    skip_empty_tiles=True,\n",
    "    format_options={'cloudOptimized': True}\n",
    ")"
   ]
  },
  {
   "cell_type": "code",
   "execution_count": 40,
   "id": "e7f6f616-e738-4908-a0fb-348ae9970aa9",
   "metadata": {
    "tags": []
   },
   "outputs": [
    {
     "data": {
      "text/plain": [
       "{'state': 'COMPLETED',\n",
       " 'description': 'L5_07',\n",
       " 'creation_timestamp_ms': 1684468258426,\n",
       " 'update_timestamp_ms': 1684468841872,\n",
       " 'start_timestamp_ms': 1684468420015,\n",
       " 'task_type': 'EXPORT_IMAGE',\n",
       " 'destination_uris': ['https://console.developers.google.com/storage/browser/cog-bucket/'],\n",
       " 'attempt': 1,\n",
       " 'batch_eecu_usage_seconds': 732.4966430664062,\n",
       " 'id': 'APFVZFJLW6UQTOLRUPHRNN3H',\n",
       " 'name': 'projects/earthengine-legacy/operations/APFVZFJLW6UQTOLRUPHRNN3H'}"
      ]
     },
     "execution_count": 40,
     "metadata": {},
     "output_type": "execute_result"
    }
   ],
   "source": [
    "task_l5_07.status()"
   ]
  },
  {
   "cell_type": "code",
   "execution_count": 15,
   "id": "541c9eb6-9492-4cca-a902-cf3408188e46",
   "metadata": {
    "tags": []
   },
   "outputs": [],
   "source": [
    "task_l5_06 = export_l5_to_cloud_storage(\n",
    "    image=L5_2006,\n",
    "    description='L5_06',\n",
    "    file_name_prefix='L5_06',\n",
    "    crs='EPSG:4326',\n",
    "    scale=30,\n",
    "    region=sites.geometry(),\n",
    "    file_format='GeoTIFF',\n",
    "    bucket='cog-bucket',\n",
    "    max_pixels=1e13,\n",
    "    skip_empty_tiles=True,\n",
    "    format_options={'cloudOptimized': True}\n",
    ")"
   ]
  },
  {
   "cell_type": "code",
   "execution_count": 47,
   "id": "7595db62-8bfe-4968-a008-e8ef3069e866",
   "metadata": {
    "tags": []
   },
   "outputs": [
    {
     "data": {
      "text/plain": [
       "{'state': 'RUNNING',\n",
       " 'description': 'L5_06',\n",
       " 'creation_timestamp_ms': 1684468260567,\n",
       " 'update_timestamp_ms': 1684469074474,\n",
       " 'start_timestamp_ms': 1684468653445,\n",
       " 'task_type': 'EXPORT_IMAGE',\n",
       " 'attempt': 1,\n",
       " 'id': 'CTQX3LD7JO3KSX2GITPR2VAY',\n",
       " 'name': 'projects/earthengine-legacy/operations/CTQX3LD7JO3KSX2GITPR2VAY'}"
      ]
     },
     "execution_count": 47,
     "metadata": {},
     "output_type": "execute_result"
    }
   ],
   "source": [
    "task_l5_06.status()"
   ]
  },
  {
   "cell_type": "code",
   "execution_count": 16,
   "id": "58aec6dd-7a03-496b-9c0a-36755ba4f7be",
   "metadata": {
    "tags": []
   },
   "outputs": [],
   "source": [
    "task_l5_05 = export_l5_to_cloud_storage(\n",
    "    image=L5_2005,\n",
    "    description='L5_05',\n",
    "    file_name_prefix='L5_05',\n",
    "    crs='EPSG:4326',\n",
    "    scale=30,\n",
    "    region=sites.geometry(),\n",
    "    file_format='GeoTIFF',\n",
    "    bucket='cog-bucket',\n",
    "    max_pixels=1e13,\n",
    "    skip_empty_tiles=True,\n",
    "    format_options={'cloudOptimized': True}\n",
    ")"
   ]
  },
  {
   "cell_type": "code",
   "execution_count": 21,
   "id": "259a7a05-1730-40e4-a619-b77b1d3bce4f",
   "metadata": {
    "tags": []
   },
   "outputs": [
    {
     "data": {
      "text/plain": [
       "{'state': 'COMPLETED',\n",
       " 'description': 'L5_05',\n",
       " 'creation_timestamp_ms': 1684722989183,\n",
       " 'update_timestamp_ms': 1684723673628,\n",
       " 'start_timestamp_ms': 1684723077784,\n",
       " 'task_type': 'EXPORT_IMAGE',\n",
       " 'destination_uris': ['https://console.developers.google.com/storage/browser/cog-bucket/'],\n",
       " 'attempt': 1,\n",
       " 'batch_eecu_usage_seconds': 900.3063354492188,\n",
       " 'id': 'RUTUQRLGEBNW74G67OEVHDT7',\n",
       " 'name': 'projects/earthengine-legacy/operations/RUTUQRLGEBNW74G67OEVHDT7'}"
      ]
     },
     "execution_count": 21,
     "metadata": {},
     "output_type": "execute_result"
    }
   ],
   "source": [
    "task_l5_05.status()"
   ]
  },
  {
   "cell_type": "code",
   "execution_count": 17,
   "id": "33985173-518a-4e1b-a4ae-8b9fa22e5a3a",
   "metadata": {
    "tags": []
   },
   "outputs": [],
   "source": [
    "task_l5_04 = export_l5_to_cloud_storage(\n",
    "    image=L5_2004,\n",
    "    description='L5_04',\n",
    "    file_name_prefix='L5_04',\n",
    "    crs='EPSG:4326',\n",
    "    scale=30,\n",
    "    region=sites.geometry(),\n",
    "    file_format='GeoTIFF',\n",
    "    bucket='cog-bucket',\n",
    "    max_pixels=1e13,\n",
    "    skip_empty_tiles=True,\n",
    "    format_options={'cloudOptimized': True}\n",
    ")"
   ]
  },
  {
   "cell_type": "code",
   "execution_count": 20,
   "id": "1016fa9f-512e-477a-870c-1bf157592c2e",
   "metadata": {
    "tags": []
   },
   "outputs": [
    {
     "data": {
      "text/plain": [
       "{'state': 'RUNNING',\n",
       " 'description': 'L5_04',\n",
       " 'creation_timestamp_ms': 1684722991221,\n",
       " 'update_timestamp_ms': 1684723745150,\n",
       " 'start_timestamp_ms': 1684723324684,\n",
       " 'task_type': 'EXPORT_IMAGE',\n",
       " 'attempt': 1,\n",
       " 'id': 'L3C3LBHMUZNPERGCYOXPJWVS',\n",
       " 'name': 'projects/earthengine-legacy/operations/L3C3LBHMUZNPERGCYOXPJWVS'}"
      ]
     },
     "execution_count": 20,
     "metadata": {},
     "output_type": "execute_result"
    }
   ],
   "source": [
    "task_l5_04.status()"
   ]
  },
  {
   "cell_type": "code",
   "execution_count": 18,
   "id": "c30d2ee9-7621-4f7d-8fef-fe34706f7c8d",
   "metadata": {
    "tags": []
   },
   "outputs": [],
   "source": [
    "task_l5_03 = export_l5_to_cloud_storage(\n",
    "    image=L5_2003,\n",
    "    description='L5_03',\n",
    "    file_name_prefix='L5_03',\n",
    "    crs='EPSG:4326',\n",
    "    scale=30,\n",
    "    region=sites.geometry(),\n",
    "    file_format='GeoTIFF',\n",
    "    bucket='cog-bucket',\n",
    "    max_pixels=1e13,\n",
    "    skip_empty_tiles=True,\n",
    "    format_options={'cloudOptimized': True}\n",
    ")"
   ]
  },
  {
   "cell_type": "code",
   "execution_count": 19,
   "id": "e5751ec4-074c-461c-88f3-f96d923ad9d9",
   "metadata": {
    "tags": []
   },
   "outputs": [
    {
     "data": {
      "text/plain": [
       "{'state': 'COMPLETED',\n",
       " 'description': 'L5_03',\n",
       " 'creation_timestamp_ms': 1684722993281,\n",
       " 'update_timestamp_ms': 1684723681762,\n",
       " 'start_timestamp_ms': 1684723327533,\n",
       " 'task_type': 'EXPORT_IMAGE',\n",
       " 'destination_uris': ['https://console.developers.google.com/storage/browser/cog-bucket/'],\n",
       " 'attempt': 1,\n",
       " 'batch_eecu_usage_seconds': 728.1709594726562,\n",
       " 'id': 'HQAEBMWNAT2DKDKY4MI5JC4Z',\n",
       " 'name': 'projects/earthengine-legacy/operations/HQAEBMWNAT2DKDKY4MI5JC4Z'}"
      ]
     },
     "execution_count": 19,
     "metadata": {},
     "output_type": "execute_result"
    }
   ],
   "source": [
    "task_l5_03.status()"
   ]
  },
  {
   "cell_type": "code",
   "execution_count": null,
   "id": "4553eb42-71cd-4b71-a086-ff6bf4167ff6",
   "metadata": {},
   "outputs": [],
   "source": []
  }
 ],
 "metadata": {
  "kernelspec": {
   "display_name": "Python 3 (ipykernel)",
   "language": "python",
   "name": "python3"
  },
  "language_info": {
   "codemirror_mode": {
    "name": "ipython",
    "version": 3
   },
   "file_extension": ".py",
   "mimetype": "text/x-python",
   "name": "python",
   "nbconvert_exporter": "python",
   "pygments_lexer": "ipython3",
   "version": "3.9.15"
  }
 },
 "nbformat": 4,
 "nbformat_minor": 5
}
