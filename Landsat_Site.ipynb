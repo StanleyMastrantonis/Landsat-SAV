{
 "cells": [
  {
   "cell_type": "raw",
   "id": "c2cea512-c345-46ac-9ab6-dde963a8fd9d",
   "metadata": {},
   "source": [
    "---\n",
    "title: Landsat Site\n",
    "author: Stanley Mastrantonis \n",
    "format:\n",
    "  html:\n",
    "    toc: true\n",
    "    code-fold: true\n",
    "    self-contained: true\n",
    "    theme: paper\n",
    "---"
   ]
  },
  {
   "cell_type": "code",
   "execution_count": 6,
   "id": "cc01544a-5c04-4a3e-ac2b-653dd50feaea",
   "metadata": {
    "tags": []
   },
   "outputs": [],
   "source": [
    "import os\n",
    "import glob\n",
    "import subprocess\n",
    "import json\n",
    "import warnings\n",
    "from typing import List, Union\n",
    "from typing import Optional\n",
    "\n",
    "import ee\n",
    "import geemap\n",
    "import rasterio\n",
    "import sankee\n",
    "import fiona\n",
    "from osgeo import gdal, osr, gdalconst\n",
    "import numpy.ma as ma"
   ]
  },
  {
   "cell_type": "code",
   "execution_count": null,
   "id": "0bf4966f-47e3-47a5-b9ad-c236cb2fd1fb",
   "metadata": {},
   "outputs": [],
   "source": [
    "from functions import *"
   ]
  },
  {
   "cell_type": "code",
   "execution_count": 3,
   "id": "b5ef54b1-f7ca-4e17-8c6f-82475086aea8",
   "metadata": {
    "tags": []
   },
   "outputs": [
    {
     "data": {
      "text/html": [
       "<p>To authorize access needed by Earth Engine, open the following\n",
       "        URL in a web browser and follow the instructions:</p>\n",
       "        <p><a href=https://code.earthengine.google.com/client-auth?scopes=https%3A//www.googleapis.com/auth/earthengine%20https%3A//www.googleapis.com/auth/devstorage.full_control&request_id=DgoruNpa2ZldiK5rInbV1PLI9bG7tCruenri79QsAug&tc=nYBaFKDIMCcFG1nkeUl-rEktbbsXgfrNncgNAiUPvEw&cc=dLvapWa8PweKLxOMZjq9rgMshkB7TVhnvxG2qY7Ty44>https://code.earthengine.google.com/client-auth?scopes=https%3A//www.googleapis.com/auth/earthengine%20https%3A//www.googleapis.com/auth/devstorage.full_control&request_id=DgoruNpa2ZldiK5rInbV1PLI9bG7tCruenri79QsAug&tc=nYBaFKDIMCcFG1nkeUl-rEktbbsXgfrNncgNAiUPvEw&cc=dLvapWa8PweKLxOMZjq9rgMshkB7TVhnvxG2qY7Ty44</a></p>\n",
       "        <p>The authorization workflow will generate a code, which you should paste in the box below.</p>\n",
       "        "
      ],
      "text/plain": [
       "<IPython.core.display.HTML object>"
      ]
     },
     "metadata": {},
     "output_type": "display_data"
    },
    {
     "name": "stdin",
     "output_type": "stream",
     "text": [
      "Enter verification code:  4/1AbUR2VNX6roYyX2FCncI3NKDRzsgg7PzCPjhNVUUvsDAsfjo-ZwFqlQJmZM\n"
     ]
    },
    {
     "name": "stdout",
     "output_type": "stream",
     "text": [
      "\n",
      "Successfully saved authorization token.\n"
     ]
    }
   ],
   "source": [
    "#ee.Authenticate()"
   ]
  },
  {
   "cell_type": "code",
   "execution_count": 4,
   "id": "fe4e6509-04f1-46a9-beab-255402624448",
   "metadata": {
    "tags": []
   },
   "outputs": [],
   "source": [
    "ee.Initialize()"
   ]
  },
  {
   "cell_type": "code",
   "execution_count": 30,
   "id": "610eaaf9-90f2-4530-af75-aa73a012789f",
   "metadata": {
    "tags": []
   },
   "outputs": [],
   "source": [
    "def scale_landsat(image):\n",
    "    # Apply the scaling factors to the appropriate bands.\n",
    "    opticalBands = image.select(\"SR_B.\").multiply(0.0000275).add(-0.2)\n",
    "    # Replace the original bands with the scaled ones and apply the masks.\n",
    "    return image.addBands(opticalBands, None, True)\n",
    "\n",
    "# Define a function to clip each image to the feature collection\n",
    "def clip_image(image):\n",
    "    clipped_image = image.clip(site)\n",
    "    return clipped_image\n",
    "\n",
    "    \n",
    "def download_collection_images_L8(collection_id, output_dir, start_date, end_date, cloud, site):\n",
    "    # Load the Earth Engine collection\n",
    "    collection = (ee.ImageCollection(collection_id)\n",
    "                    .filterBounds(site)\n",
    "                    .map(clip_image)\n",
    "                    .filterDate(start_date, end_date)\n",
    "                    .filterMetadata('CLOUD_COVER', 'less_than', cloud)\n",
    "                    .map(scale_landsat)\n",
    "                 )\n",
    "                       \n",
    "\n",
    "    # Get the image IDs\n",
    "    image_ids = collection.aggregate_array('system:index').getInfo()\n",
    "\n",
    "    # Create the output directory if it doesn't exist\n",
    "    if not os.path.exists(output_dir):\n",
    "        os.makedirs(output_dir)\n",
    "\n",
    "    # Loop through the image IDs and download each image\n",
    "    for image_id in image_ids:\n",
    "        image = ee.Image(collection.filter(ee.Filter.eq('system:index', image_id)).first()).select(['SR_B2', 'SR_B3' ,'SR_B4', 'SR_B5'])\n",
    "        # Get the image download URL\n",
    "        geemap.ee_export_image(\n",
    "               image,\n",
    "               filename=output_dir +'\\\\'+ image_id+'.tif',\n",
    "               scale=30,\n",
    "               region=site.geometry(),\n",
    "               file_per_band=False\n",
    "            )\n",
    "        print(f\"Downloaded {image_id}.tif\")"
   ]
  },
  {
   "cell_type": "code",
   "execution_count": 31,
   "id": "39516da5-8c47-419f-a4b8-a5ee93eb57c1",
   "metadata": {
    "tags": []
   },
   "outputs": [],
   "source": [
    "site = geemap.shp_to_ee(os.path.join(os.getcwd(),\n",
    "          'Data\\\\ICoAST sites\\\\Sites\\\\Mandurah.shp'))"
   ]
  },
  {
   "cell_type": "code",
   "execution_count": 32,
   "id": "f4b7ac58-c9f1-4560-b51e-b61036b7dd44",
   "metadata": {
    "tags": []
   },
   "outputs": [],
   "source": [
    "collection_id = 'LANDSAT/LC08/C02/T1_L2'\n",
    "start_date = '2022-01-01'\n",
    "end_date = '2022-12-30'\n",
    "output_dir = os.path.join(os.getcwd(),'Data\\\\L8 Downloads\\\\2022')"
   ]
  },
  {
   "cell_type": "code",
   "execution_count": 33,
   "id": "639c5734-0602-404e-9263-0c0147e8f011",
   "metadata": {
    "tags": []
   },
   "outputs": [
    {
     "name": "stdout",
     "output_type": "stream",
     "text": [
      "Generating URL ...\n",
      "Downloading data from https://earthengine.googleapis.com/v1alpha/projects/earthengine-legacy/thumbnails/b80bc6709d303dae417aea1098998eb8-1320978c43b656aebc139739adde3ba6:getPixels\n",
      "Please wait ...\n",
      "Data downloaded to C:\\Users\\00097030\\Git\\Landsat-SAV\\Data\\L8 Downloads\\2022\\LC08_112083_20220116.tif\n",
      "Downloaded LC08_112083_20220116.tif\n",
      "Generating URL ...\n",
      "Downloading data from https://earthengine.googleapis.com/v1alpha/projects/earthengine-legacy/thumbnails/228d9fe5b75748afea68146cf0b4f4c6-46beccb7ec9d9e41b3a8ccde1e85ef89:getPixels\n",
      "Please wait ...\n",
      "Data downloaded to C:\\Users\\00097030\\Git\\Landsat-SAV\\Data\\L8 Downloads\\2022\\LC08_112083_20220201.tif\n",
      "Downloaded LC08_112083_20220201.tif\n",
      "Generating URL ...\n",
      "Downloading data from https://earthengine.googleapis.com/v1alpha/projects/earthengine-legacy/thumbnails/67d3edf354c4ccff95557add9466cad3-d09fe57b8cb5772fa2d1c1f48c86c2c4:getPixels\n",
      "Please wait ...\n",
      "Data downloaded to C:\\Users\\00097030\\Git\\Landsat-SAV\\Data\\L8 Downloads\\2022\\LC08_112083_20220217.tif\n",
      "Downloaded LC08_112083_20220217.tif\n",
      "Generating URL ...\n",
      "Downloading data from https://earthengine.googleapis.com/v1alpha/projects/earthengine-legacy/thumbnails/9c70ddfbe3020525ef167e200c0d04aa-7423e3c343e1e67c24b98226e7573ea3:getPixels\n",
      "Please wait ...\n",
      "Data downloaded to C:\\Users\\00097030\\Git\\Landsat-SAV\\Data\\L8 Downloads\\2022\\LC08_112083_20220305.tif\n",
      "Downloaded LC08_112083_20220305.tif\n",
      "Generating URL ...\n",
      "Downloading data from https://earthengine.googleapis.com/v1alpha/projects/earthengine-legacy/thumbnails/49d2637f15032609b3e7434b82229cfc-db9e25d6429793cef1a7f53bb03a21df:getPixels\n",
      "Please wait ...\n",
      "Data downloaded to C:\\Users\\00097030\\Git\\Landsat-SAV\\Data\\L8 Downloads\\2022\\LC08_112083_20220406.tif\n",
      "Downloaded LC08_112083_20220406.tif\n",
      "Generating URL ...\n",
      "Downloading data from https://earthengine.googleapis.com/v1alpha/projects/earthengine-legacy/thumbnails/52de532677439104e9c1ca95b0a22e7d-4200abea816d33282d526d088cd4b21d:getPixels\n",
      "Please wait ...\n",
      "Data downloaded to C:\\Users\\00097030\\Git\\Landsat-SAV\\Data\\L8 Downloads\\2022\\LC08_112083_20220422.tif\n",
      "Downloaded LC08_112083_20220422.tif\n",
      "Generating URL ...\n",
      "Downloading data from https://earthengine.googleapis.com/v1alpha/projects/earthengine-legacy/thumbnails/6c6046c6bd14b2af4b374246d16d653b-cf310f37dc6463ed276bc26629323db2:getPixels\n",
      "Please wait ...\n",
      "Data downloaded to C:\\Users\\00097030\\Git\\Landsat-SAV\\Data\\L8 Downloads\\2022\\LC08_112083_20220625.tif\n",
      "Downloaded LC08_112083_20220625.tif\n",
      "Generating URL ...\n",
      "Downloading data from https://earthengine.googleapis.com/v1alpha/projects/earthengine-legacy/thumbnails/505e31ed90fb29b341b0ebfeb1114728-4461ce3a0e52272a4285b046b8e68c4c:getPixels\n",
      "Please wait ...\n",
      "Data downloaded to C:\\Users\\00097030\\Git\\Landsat-SAV\\Data\\L8 Downloads\\2022\\LC08_112083_20220711.tif\n",
      "Downloaded LC08_112083_20220711.tif\n",
      "Generating URL ...\n",
      "Downloading data from https://earthengine.googleapis.com/v1alpha/projects/earthengine-legacy/thumbnails/eddd4b7a2dff432200138cb132da0aa3-35fb6e787a89781dfe84cac4bb3dd0c3:getPixels\n",
      "Please wait ...\n",
      "Data downloaded to C:\\Users\\00097030\\Git\\Landsat-SAV\\Data\\L8 Downloads\\2022\\LC08_112083_20220812.tif\n",
      "Downloaded LC08_112083_20220812.tif\n",
      "Generating URL ...\n",
      "Downloading data from https://earthengine.googleapis.com/v1alpha/projects/earthengine-legacy/thumbnails/3c0f334761707696d1be0b87ffa0dab2-6d53618215d3b0f91ed16d824e009e86:getPixels\n",
      "Please wait ...\n",
      "Data downloaded to C:\\Users\\00097030\\Git\\Landsat-SAV\\Data\\L8 Downloads\\2022\\LC08_112083_20220929.tif\n",
      "Downloaded LC08_112083_20220929.tif\n",
      "Generating URL ...\n",
      "Downloading data from https://earthengine.googleapis.com/v1alpha/projects/earthengine-legacy/thumbnails/a47b707b6547139905cef4efa861c809-76920a3c2b915f26093313d9aa412cb3:getPixels\n",
      "Please wait ...\n",
      "Data downloaded to C:\\Users\\00097030\\Git\\Landsat-SAV\\Data\\L8 Downloads\\2022\\LC08_112083_20221218.tif\n",
      "Downloaded LC08_112083_20221218.tif\n",
      "Generating URL ...\n",
      "Downloading data from https://earthengine.googleapis.com/v1alpha/projects/earthengine-legacy/thumbnails/02925bbe17a3f3119a29f03dbd33261b-98641f6055d7bae2d954fef485f61cba:getPixels\n",
      "Please wait ...\n",
      "Data downloaded to C:\\Users\\00097030\\Git\\Landsat-SAV\\Data\\L8 Downloads\\2022\\LC08_113082_20220107.tif\n",
      "Downloaded LC08_113082_20220107.tif\n",
      "Generating URL ...\n",
      "Downloading data from https://earthengine.googleapis.com/v1alpha/projects/earthengine-legacy/thumbnails/a59bb2a672ec9dd0914c936a2b1a20c6-1f53f0e50eb68285be2eec0908473c76:getPixels\n",
      "Please wait ...\n",
      "Data downloaded to C:\\Users\\00097030\\Git\\Landsat-SAV\\Data\\L8 Downloads\\2022\\LC08_113082_20220123.tif\n",
      "Downloaded LC08_113082_20220123.tif\n",
      "Generating URL ...\n",
      "Downloading data from https://earthengine.googleapis.com/v1alpha/projects/earthengine-legacy/thumbnails/e3b63ce3453decb9137f946a76f0b16c-35796eac9a119e39174cb720395067bf:getPixels\n",
      "Please wait ...\n",
      "Data downloaded to C:\\Users\\00097030\\Git\\Landsat-SAV\\Data\\L8 Downloads\\2022\\LC08_113082_20220224.tif\n",
      "Downloaded LC08_113082_20220224.tif\n",
      "Generating URL ...\n",
      "Downloading data from https://earthengine.googleapis.com/v1alpha/projects/earthengine-legacy/thumbnails/d9c9511efd616a7b21cafc8b13859116-2f45ff808645a67432fcf6a9236b31a0:getPixels\n",
      "Please wait ...\n",
      "Data downloaded to C:\\Users\\00097030\\Git\\Landsat-SAV\\Data\\L8 Downloads\\2022\\LC08_113082_20220413.tif\n",
      "Downloaded LC08_113082_20220413.tif\n",
      "Generating URL ...\n",
      "Downloading data from https://earthengine.googleapis.com/v1alpha/projects/earthengine-legacy/thumbnails/6f9d06d1bdc9c21588586bd84fdb1312-d17e7734799613114485808df09e9f1e:getPixels\n",
      "Please wait ...\n",
      "Data downloaded to C:\\Users\\00097030\\Git\\Landsat-SAV\\Data\\L8 Downloads\\2022\\LC08_113082_20220702.tif\n",
      "Downloaded LC08_113082_20220702.tif\n",
      "Generating URL ...\n",
      "Downloading data from https://earthengine.googleapis.com/v1alpha/projects/earthengine-legacy/thumbnails/79901723d0fae493b10d5bdbd6ece1b8-54141bb0e716614895466d131c60c5db:getPixels\n",
      "Please wait ...\n",
      "Data downloaded to C:\\Users\\00097030\\Git\\Landsat-SAV\\Data\\L8 Downloads\\2022\\LC08_113082_20221225.tif\n",
      "Downloaded LC08_113082_20221225.tif\n",
      "Generating URL ...\n",
      "Downloading data from https://earthengine.googleapis.com/v1alpha/projects/earthengine-legacy/thumbnails/e30f152c4fae007b4091c257e4cde77a-847b37767fa85ca44b0655d264e90854:getPixels\n",
      "Please wait ...\n",
      "Data downloaded to C:\\Users\\00097030\\Git\\Landsat-SAV\\Data\\L8 Downloads\\2022\\LC08_113083_20220107.tif\n",
      "Downloaded LC08_113083_20220107.tif\n",
      "Generating URL ...\n",
      "Downloading data from https://earthengine.googleapis.com/v1alpha/projects/earthengine-legacy/thumbnails/438eda5589746aecb4aabf78e9a9ab92-e4f6c923a055fdcdeda993a8926634c0:getPixels\n",
      "Please wait ...\n",
      "Data downloaded to C:\\Users\\00097030\\Git\\Landsat-SAV\\Data\\L8 Downloads\\2022\\LC08_113083_20220123.tif\n",
      "Downloaded LC08_113083_20220123.tif\n",
      "Generating URL ...\n",
      "Downloading data from https://earthengine.googleapis.com/v1alpha/projects/earthengine-legacy/thumbnails/3a90fe8d6c1ccbf32528a0e92cef6fc5-7cb4464d9ff88d692b0084202f452c91:getPixels\n",
      "Please wait ...\n",
      "Data downloaded to C:\\Users\\00097030\\Git\\Landsat-SAV\\Data\\L8 Downloads\\2022\\LC08_113083_20220702.tif\n",
      "Downloaded LC08_113083_20220702.tif\n"
     ]
    }
   ],
   "source": [
    "download_collection_images_L8(collection_id, output_dir, start_date= start_date, end_date = end_date, cloud = 15, site = mandurah)"
   ]
  },
  {
   "cell_type": "code",
   "execution_count": null,
   "id": "96058c08-b224-4d03-8b84-2db572a02bb9",
   "metadata": {},
   "outputs": [],
   "source": []
  }
 ],
 "metadata": {
  "kernelspec": {
   "display_name": "Python 3 (ipykernel)",
   "language": "python",
   "name": "python3"
  },
  "language_info": {
   "codemirror_mode": {
    "name": "ipython",
    "version": 3
   },
   "file_extension": ".py",
   "mimetype": "text/x-python",
   "name": "python",
   "nbconvert_exporter": "python",
   "pygments_lexer": "ipython3",
   "version": "3.9.15"
  }
 },
 "nbformat": 4,
 "nbformat_minor": 5
}
